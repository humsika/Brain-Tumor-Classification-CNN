{
 "cells": [
  {
   "cell_type": "markdown",
   "metadata": {
    "id": "eJ8g1gCKsoI6"
   },
   "source": [
    "# Brain Tumor Classification using multiple CNNs"
   ]
  },
  {
   "cell_type": "markdown",
   "metadata": {
    "id": "f5Nb0Ah-MNFv"
   },
   "source": [
    "## Introduction"
   ]
  },
  {
   "cell_type": "markdown",
   "metadata": {
    "id": "CoztxMaEMNF3"
   },
   "source": [
    "In this notebook, I've used **CNN** to perform Image Classification on the Brain Tumor dataset.<br>\n",
    "Since this dataset is small, if we train a neural network to it, it won't really give us a good result.<br>\n",
    "Therefore, I'm going to use the concept of **Transfer Learning** and also custom CNN to train the model to compare accurate results."
   ]
  },
  {
   "cell_type": "code",
   "execution_count": 1,
   "metadata": {
    "colab": {
     "base_uri": "https://localhost:8080/"
    },
    "executionInfo": {
     "elapsed": 74836,
     "status": "ok",
     "timestamp": 1668095748646,
     "user": {
      "displayName": "snehit vaddi",
      "userId": "08382799049763233557"
     },
     "user_tz": -330
    },
    "id": "ViWEUvg_MVnE",
    "outputId": "add2ec20-b6a7-4294-e975-ea405e087f8a"
   },
   "outputs": [
    {
     "name": "stdout",
     "output_type": "stream",
     "text": [
      "Mounted at /content/drive\n"
     ]
    }
   ],
   "source": [
    "from google.colab import drive\n",
    "drive.mount('/content/drive')"
   ]
  },
  {
   "cell_type": "markdown",
   "metadata": {
    "id": "zv0KcRLgMNGK"
   },
   "source": [
    "# Importing Libraries"
   ]
  },
  {
   "cell_type": "code",
   "execution_count": null,
   "metadata": {
    "id": "m-ypsZp9MNGN",
    "scrolled": true
   },
   "outputs": [],
   "source": [
    "import matplotlib.pyplot as plt\n",
    "import numpy as np\n",
    "import pandas as pd\n",
    "import seaborn as sns\n",
    "import cv2 #OpenCV\n",
    "import tensorflow as tf\n",
    "from tensorflow.keras.preprocessing.image import ImageDataGenerator\n",
    "from tqdm import tqdm\n",
    "import os\n",
    "from sklearn.utils import shuffle\n",
    "from sklearn.model_selection import train_test_split\n",
    "from tensorflow.keras.applications import EfficientNetB0\n",
    "from tensorflow.keras.callbacks import EarlyStopping, ReduceLROnPlateau, TensorBoard, ModelCheckpoint\n",
    "from sklearn.metrics import classification_report,confusion_matrix\n",
    "import ipywidgets as widgets\n",
    "import io\n",
    "from PIL import Image\n",
    "from IPython.display import display,clear_output\n",
    "from warnings import filterwarnings\n",
    "\n",
    "paths = []\n",
    "for dirname, _, filenames in os.walk('/content/drive/MyDrive/Projects-for-Sale/Brain_Tumor_Classification/dataset'):\n",
    "    for filename in filenames:\n",
    "        paths.append(os.path.join(dirname, filename))\n",
    "        print(os.path.join(dirname, filename))"
   ]
  },
  {
   "cell_type": "markdown",
   "metadata": {
    "id": "DEJitmsrMNGU"
   },
   "source": [
    "---"
   ]
  },
  {
   "cell_type": "code",
   "execution_count": null,
   "metadata": {
    "id": "ue3Awbo-MNGc"
   },
   "outputs": [],
   "source": [
    "labels = ['glioma_tumor','meningioma_tumor','no_tumor','pituitary_tumor']"
   ]
  },
  {
   "cell_type": "code",
   "execution_count": null,
   "metadata": {
    "id": "Q5w2nvmu__5R"
   },
   "outputs": [],
   "source": [
    "# !mkdir aug_dataset/Testing\n",
    "# !mkdir aug_dataset/Training\n",
    "# !mkdir aug_dataset/Testing/glioma_tumor\n",
    "# !mkdir aug_dataset/Testing/meningioma_tumor\n",
    "# !mkdir aug_dataset/Testing/no_tumor\n",
    "# !mkdir aug_dataset/Testing/pituitary_tumor\n",
    "# !mkdir aug_dataset/Training/glioma_tumor\n",
    "# !mkdir aug_dataset/Training/meningioma_tumor\n",
    "# !mkdir aug_dataset/Training/no_tumor\n",
    "# !mkdir aug_dataset/Training/pituitary_tumor"
   ]
  },
  {
   "cell_type": "markdown",
   "metadata": {
    "id": "1kKXZh4KMNGb"
   },
   "source": [
    "# Data Preperation"
   ]
  },
  {
   "cell_type": "markdown",
   "metadata": {
    "id": "PZxG303fMNGe"
   },
   "source": [
    "We start off by appending all the images from the  directories into a Python list and then converting them into numpy arrays after resizing it."
   ]
  },
  {
   "cell_type": "code",
   "execution_count": null,
   "metadata": {
    "colab": {
     "base_uri": "https://localhost:8080/"
    },
    "executionInfo": {
     "elapsed": 76238,
     "status": "ok",
     "timestamp": 1663577636882,
     "user": {
      "displayName": "121710309055 VADDI SNEHIT",
      "userId": "14598604518360618740"
     },
     "user_tz": -330
    },
    "id": "tJ0pqBOeMNGf",
    "outputId": "08ebdce2-faec-479f-9c8b-f69f96668457"
   },
   "outputs": [
    {
     "name": "stderr",
     "output_type": "stream",
     "text": [
      "100%|██████████| 276/276 [00:03<00:00, 89.38it/s] \n",
      "100%|██████████| 268/268 [00:02<00:00, 101.95it/s]\n",
      "100%|██████████| 275/275 [00:02<00:00, 96.99it/s] \n",
      "100%|██████████| 271/271 [00:02<00:00, 97.92it/s] \n",
      "100%|██████████| 64/64 [00:16<00:00,  3.98it/s]\n",
      "100%|██████████| 64/64 [00:16<00:00,  3.82it/s]\n",
      "100%|██████████| 68/68 [00:13<00:00,  4.86it/s]\n",
      "100%|██████████| 64/64 [00:15<00:00,  4.12it/s]\n"
     ]
    }
   ],
   "source": [
    "X_train = []\n",
    "y_train = []\n",
    "# image_size = 150\n",
    "image_size = 64\n",
    "dir = '/content/drive/MyDrive/Brain_Tumor_Classification/dataset'\n",
    "for i in labels:\n",
    "    folderPath = os.path.join(dir,'Training',i)\n",
    "    for j in tqdm(os.listdir(folderPath)):\n",
    "        img = cv2.imread(os.path.join(folderPath,j))\n",
    "        img = cv2.resize(img,(image_size, image_size))\n",
    "        X_train.append(img)\n",
    "        y_train.append(i)\n",
    "        \n",
    "for i in labels:\n",
    "    folderPath = os.path.join(dir,'Testing',i)\n",
    "    for j in tqdm(os.listdir(folderPath)):\n",
    "        img = cv2.imread(os.path.join(folderPath,j))\n",
    "        img = cv2.resize(img,(image_size,image_size))\n",
    "        X_train.append(img)\n",
    "        y_train.append(i)\n",
    "        \n",
    "X_train = np.array(X_train)\n",
    "y_train = np.array(y_train)"
   ]
  },
  {
   "cell_type": "code",
   "execution_count": null,
   "metadata": {
    "colab": {
     "base_uri": "https://localhost:8080/",
     "height": 335
    },
    "executionInfo": {
     "elapsed": 1339,
     "status": "ok",
     "timestamp": 1663577639898,
     "user": {
      "displayName": "121710309055 VADDI SNEHIT",
      "userId": "14598604518360618740"
     },
     "user_tz": -330
    },
    "id": "HIgVqczOMNGi",
    "outputId": "640fc53b-471c-460e-ca66-98a89dee4ce9"
   },
   "outputs": [
    {
     "data": {
      "image/png": "[encoded data removed]",
      "text/plain": [
       "<Figure size 1440x1440 with 4 Axes>"
      ]
     },
     "metadata": {
      "needs_background": "light"
     },
     "output_type": "display_data"
    }
   ],
   "source": [
    "k=0\n",
    "fig, ax = plt.subplots(1,4,figsize=(20,20))\n",
    "fig.text(s='Sample Image From Each Label',size=18,fontweight='bold',\n",
    "             fontname='monospace',y=0.62,x=0.4,alpha=0.8)\n",
    "for i in labels:\n",
    "    j=0\n",
    "    while True :\n",
    "        if y_train[j]==i:\n",
    "            ax[k].imshow(X_train[j])\n",
    "            ax[k].set_title(y_train[j])\n",
    "            ax[k].axis('off')\n",
    "            k+=1\n",
    "            break\n",
    "        j+=1"
   ]
  },
  {
   "cell_type": "code",
   "execution_count": null,
   "metadata": {
    "id": "MRqCeB5oMNGl"
   },
   "outputs": [],
   "source": [
    "X_train, y_train = shuffle(X_train,y_train, random_state=101)"
   ]
  },
  {
   "cell_type": "code",
   "execution_count": null,
   "metadata": {
    "colab": {
     "base_uri": "https://localhost:8080/"
    },
    "executionInfo": {
     "elapsed": 42,
     "status": "ok",
     "timestamp": 1663577639903,
     "user": {
      "displayName": "121710309055 VADDI SNEHIT",
      "userId": "14598604518360618740"
     },
     "user_tz": -330
    },
    "id": "K0AN84V8MNGn",
    "outputId": "40bb45ad-b4a0-407c-f2db-9c13f3069023"
   },
   "outputs": [
    {
     "data": {
      "text/plain": [
       "(1350, 64, 64, 3)"
      ]
     },
     "execution_count": 9,
     "metadata": {},
     "output_type": "execute_result"
    }
   ],
   "source": [
    "X_train.shape"
   ]
  },
  {
   "cell_type": "markdown",
   "metadata": {
    "id": "WKVRa842MNGo"
   },
   "source": [
    "Dividing the dataset into **Training** and **Testing** sets."
   ]
  },
  {
   "cell_type": "code",
   "execution_count": null,
   "metadata": {
    "id": "ZQjT6M18MNGp"
   },
   "outputs": [],
   "source": [
    "X_train,X_test,y_train,y_test = train_test_split(X_train,y_train, test_size=0.1,random_state=101)"
   ]
  },
  {
   "cell_type": "code",
   "execution_count": null,
   "metadata": {
    "colab": {
     "base_uri": "https://localhost:8080/"
    },
    "executionInfo": {
     "elapsed": 34,
     "status": "ok",
     "timestamp": 1663577639909,
     "user": {
      "displayName": "121710309055 VADDI SNEHIT",
      "userId": "14598604518360618740"
     },
     "user_tz": -330
    },
    "id": "SWiAsfZS-8fC",
    "outputId": "3bc4ee1b-6f31-4b36-f825-b3eeac617ca2"
   },
   "outputs": [
    {
     "data": {
      "text/plain": [
       "((135,), (1215,))"
      ]
     },
     "execution_count": 11,
     "metadata": {},
     "output_type": "execute_result"
    }
   ],
   "source": [
    "from sklearn import preprocessing\n",
    "label_encoder = preprocessing.LabelEncoder()\n",
    "y_train= label_encoder.fit_transform(y_train)\n",
    "y_test = label_encoder.fit_transform(y_test)\n",
    "y_test.shape, y_train.shape"
   ]
  },
  {
   "cell_type": "markdown",
   "metadata": {
    "id": "FzFaKEpMMNGr"
   },
   "source": [
    "Performing **One Hot Encoding** on the labels after converting it into numerical values:"
   ]
  },
  {
   "cell_type": "code",
   "execution_count": null,
   "metadata": {
    "id": "sRGKaZdj9bdP"
   },
   "outputs": [],
   "source": [
    "for i in y_train:\n",
    "  print(i)"
   ]
  },
  {
   "cell_type": "code",
   "execution_count": null,
   "metadata": {
    "id": "VxQZRpa3MNGr"
   },
   "outputs": [],
   "source": [
    "y_train = tf.keras.utils.to_categorical(y_train)\n",
    "\n",
    "y_test = tf.keras.utils.to_categorical(y_test)\n",
    "\n"
   ]
  },
  {
   "cell_type": "code",
   "execution_count": null,
   "metadata": {
    "colab": {
     "base_uri": "https://localhost:8080/",
     "height": 498
    },
    "executionInfo": {
     "elapsed": 599,
     "status": "ok",
     "timestamp": 1663577814086,
     "user": {
      "displayName": "121710309055 VADDI SNEHIT",
      "userId": "14598604518360618740"
     },
     "user_tz": -330
    },
    "id": "Pv_wF6X8T9Cb",
    "outputId": "9a0d4c97-66fb-4013-bfcc-e36bcff9ec37"
   },
   "outputs": [
    {
     "data": {
      "image/png": "[encoded data removed]",
      "text/plain": [
       "<Figure size 1224x576 with 2 Axes>"
      ]
     },
     "metadata": {
      "needs_background": "light"
     },
     "output_type": "display_data"
    }
   ],
   "source": [
    "train_labels = []\n",
    "test_labels = []\n",
    "\n",
    "dir = '/content/drive/MyDrive/Brain_Tumor_Classification/dataset'\n",
    "\n",
    "for i in os.listdir(dir+'/Training/'):\n",
    "    for j in os.listdir(dir+\"/Training/\"+i):\n",
    "       train_labels.append(i)\n",
    "        \n",
    "for i in os.listdir(dir+'/Testing/'):\n",
    "    for j in os.listdir(dir+\"/Testing/\"+i):\n",
    "        test_labels.append(i)\n",
    "\n",
    "plt.figure(figsize = (17,8));\n",
    "lis = ['Train', 'Test']\n",
    "for i,j in enumerate([train_labels, test_labels]):\n",
    "    plt.subplot(1,2, i+1);\n",
    "    sns.countplot(x = j);\n",
    "    plt.xlabel(lis[i])"
   ]
  },
  {
   "cell_type": "code",
   "execution_count": null,
   "metadata": {
    "colab": {
     "base_uri": "https://localhost:8080/",
     "height": 60
    },
    "executionInfo": {
     "elapsed": 555,
     "status": "ok",
     "timestamp": 1663577882746,
     "user": {
      "displayName": "121710309055 VADDI SNEHIT",
      "userId": "14598604518360618740"
     },
     "user_tz": -330
    },
    "id": "GU8A2XpQ5GQ3",
    "outputId": "ab7f7004-3b3a-425a-9245-2cd0193f24cf"
   },
   "outputs": [
    {
     "data": {
      "text/html": [
       "<style>\n",
       "       table#id2, #id2 > tbody > tr > th, #id2 > tbody > tr > td {\n",
       "         border: 1px solid lightgray;\n",
       "         border-collapse:collapse;\n",
       "         \n",
       "        }</style>"
      ],
      "text/plain": [
       "<IPython.core.display.HTML object>"
      ]
     },
     "metadata": {},
     "output_type": "display_data"
    },
    {
     "data": {
      "text/html": [
       "<table id=id2><tr><th id=id2-0-0></th><td id=id2-0-1></td></tr><tr><th id=id2-1-0></th><td id=id2-1-1></td></tr></table>"
      ],
      "text/plain": [
       "<IPython.core.display.HTML object>"
      ]
     },
     "metadata": {},
     "output_type": "display_data"
    },
    {
     "data": {
      "application/javascript": "window[\"2b3de88e-37f9-11ed-9e31-0242ac1c0002\"] = google.colab.output.getActiveOutputArea();\n//# sourceURL=js_dc09a1f2d4",
      "text/plain": [
       "<IPython.core.display.Javascript object>"
      ]
     },
     "metadata": {},
     "output_type": "display_data"
    },
    {
     "data": {
      "application/javascript": "window[\"2b3e5dbe-37f9-11ed-9e31-0242ac1c0002\"] = document.querySelector(\"#id2-1-1\");\n//# sourceURL=js_8e2724ad26",
      "text/plain": [
       "<IPython.core.display.Javascript object>"
      ]
     },
     "metadata": {},
     "output_type": "display_data"
    },
    {
     "data": {
      "application/javascript": "window[\"2b3f292e-37f9-11ed-9e31-0242ac1c0002\"] = google.colab.output.setActiveOutputArea(window[\"2b3e5dbe-37f9-11ed-9e31-0242ac1c0002\"]);\n//# sourceURL=js_2947e3f04d",
      "text/plain": [
       "<IPython.core.display.Javascript object>"
      ]
     },
     "metadata": {},
     "output_type": "display_data"
    },
    {
     "name": "stdout",
     "output_type": "stream",
     "text": [
      "260\n"
     ]
    },
    {
     "data": {
      "application/javascript": "window[\"2b419b50-37f9-11ed-9e31-0242ac1c0002\"] = google.colab.output.setActiveOutputArea(window[\"2b3de88e-37f9-11ed-9e31-0242ac1c0002\"]);\n//# sourceURL=js_114b1695d1",
      "text/plain": [
       "<IPython.core.display.Javascript object>"
      ]
     },
     "metadata": {},
     "output_type": "display_data"
    },
    {
     "data": {
      "application/javascript": "window[\"2b43eb1c-37f9-11ed-9e31-0242ac1c0002\"] = google.colab.output.getActiveOutputArea();\n//# sourceURL=js_43db662808",
      "text/plain": [
       "<IPython.core.display.Javascript object>"
      ]
     },
     "metadata": {},
     "output_type": "display_data"
    },
    {
     "data": {
      "application/javascript": "window[\"2b444300-37f9-11ed-9e31-0242ac1c0002\"] = document.querySelector(\"#id2-0-1\");\n//# sourceURL=js_b340210f7d",
      "text/plain": [
       "<IPython.core.display.Javascript object>"
      ]
     },
     "metadata": {},
     "output_type": "display_data"
    },
    {
     "data": {
      "application/javascript": "window[\"2b4497e2-37f9-11ed-9e31-0242ac1c0002\"] = google.colab.output.setActiveOutputArea(window[\"2b444300-37f9-11ed-9e31-0242ac1c0002\"]);\n//# sourceURL=js_3823cc5c3f",
      "text/plain": [
       "<IPython.core.display.Javascript object>"
      ]
     },
     "metadata": {},
     "output_type": "display_data"
    },
    {
     "name": "stdout",
     "output_type": "stream",
     "text": [
      "1090\n"
     ]
    },
    {
     "data": {
      "application/javascript": "window[\"2b4622ce-37f9-11ed-9e31-0242ac1c0002\"] = google.colab.output.setActiveOutputArea(window[\"2b43eb1c-37f9-11ed-9e31-0242ac1c0002\"]);\n//# sourceURL=js_44d48b1553",
      "text/plain": [
       "<IPython.core.display.Javascript object>"
      ]
     },
     "metadata": {},
     "output_type": "display_data"
    },
    {
     "data": {
      "application/javascript": "window[\"2b488a96-37f9-11ed-9e31-0242ac1c0002\"] = google.colab.output.getActiveOutputArea();\n//# sourceURL=js_d9f1ccb120",
      "text/plain": [
       "<IPython.core.display.Javascript object>"
      ]
     },
     "metadata": {},
     "output_type": "display_data"
    },
    {
     "data": {
      "application/javascript": "window[\"2b48d33e-37f9-11ed-9e31-0242ac1c0002\"] = document.querySelector(\"#id2-0-0\");\n//# sourceURL=js_213c600cec",
      "text/plain": [
       "<IPython.core.display.Javascript object>"
      ]
     },
     "metadata": {},
     "output_type": "display_data"
    },
    {
     "data": {
      "application/javascript": "window[\"2b4929ce-37f9-11ed-9e31-0242ac1c0002\"] = google.colab.output.setActiveOutputArea(window[\"2b48d33e-37f9-11ed-9e31-0242ac1c0002\"]);\n//# sourceURL=js_8b844828e3",
      "text/plain": [
       "<IPython.core.display.Javascript object>"
      ]
     },
     "metadata": {},
     "output_type": "display_data"
    },
    {
     "name": "stdout",
     "output_type": "stream",
     "text": [
      "training images\n"
     ]
    },
    {
     "data": {
      "application/javascript": "window[\"2b4a8698-37f9-11ed-9e31-0242ac1c0002\"] = google.colab.output.setActiveOutputArea(window[\"2b488a96-37f9-11ed-9e31-0242ac1c0002\"]);\n//# sourceURL=js_d011b30d76",
      "text/plain": [
       "<IPython.core.display.Javascript object>"
      ]
     },
     "metadata": {},
     "output_type": "display_data"
    },
    {
     "data": {
      "application/javascript": "window[\"2b4caeb4-37f9-11ed-9e31-0242ac1c0002\"] = google.colab.output.getActiveOutputArea();\n//# sourceURL=js_5111b37dd8",
      "text/plain": [
       "<IPython.core.display.Javascript object>"
      ]
     },
     "metadata": {},
     "output_type": "display_data"
    },
    {
     "data": {
      "application/javascript": "window[\"2b4d0026-37f9-11ed-9e31-0242ac1c0002\"] = document.querySelector(\"#id2-1-0\");\n//# sourceURL=js_987228dfa1",
      "text/plain": [
       "<IPython.core.display.Javascript object>"
      ]
     },
     "metadata": {},
     "output_type": "display_data"
    },
    {
     "data": {
      "application/javascript": "window[\"2b4d4b76-37f9-11ed-9e31-0242ac1c0002\"] = google.colab.output.setActiveOutputArea(window[\"2b4d0026-37f9-11ed-9e31-0242ac1c0002\"]);\n//# sourceURL=js_fe2e9f6977",
      "text/plain": [
       "<IPython.core.display.Javascript object>"
      ]
     },
     "metadata": {},
     "output_type": "display_data"
    },
    {
     "name": "stdout",
     "output_type": "stream",
     "text": [
      "testing images\n"
     ]
    },
    {
     "data": {
      "application/javascript": "window[\"2b4e9eb8-37f9-11ed-9e31-0242ac1c0002\"] = google.colab.output.setActiveOutputArea(window[\"2b4caeb4-37f9-11ed-9e31-0242ac1c0002\"]);\n//# sourceURL=js_fc2537bb5a",
      "text/plain": [
       "<IPython.core.display.Javascript object>"
      ]
     },
     "metadata": {},
     "output_type": "display_data"
    }
   ],
   "source": [
    "from google.colab import widgets\n",
    "grid = widgets.Grid(2, 2, header_row=False, header_column=True)\n",
    "with grid.output_to(1, 1):\n",
    "  print(len(test_labels))\n",
    "\n",
    "with grid.output_to(0, 1):\n",
    "  print(len(train_labels))\n",
    "\n",
    "with grid.output_to(0, 0):\n",
    "  print(\"training images\")\n",
    "\n",
    "with grid.output_to(1, 0):\n",
    "  print(\"testing images\")"
   ]
  },
  {
   "cell_type": "markdown",
   "metadata": {
    "id": "GPlFALwwfDTw"
   },
   "source": [
    "# CNN with more Dense Layers"
   ]
  },
  {
   "cell_type": "code",
   "execution_count": null,
   "metadata": {
    "colab": {
     "base_uri": "https://localhost:8080/"
    },
    "executionInfo": {
     "elapsed": 4293,
     "status": "ok",
     "timestamp": 1663577894689,
     "user": {
      "displayName": "121710309055 VADDI SNEHIT",
      "userId": "14598604518360618740"
     },
     "user_tz": -330
    },
    "id": "v0ueLjEBfIdg",
    "outputId": "bfe5a3c0-c1dd-4536-b648-392bd119074c"
   },
   "outputs": [
    {
     "name": "stdout",
     "output_type": "stream",
     "text": [
      "Model: \"sequential\"\n",
      "_________________________________________________________________\n",
      " Layer (type)                Output Shape              Param #   \n",
      "=================================================================\n",
      " conv2d (Conv2D)             (None, 62, 62, 32)        896       \n",
      "                                                                 \n",
      " batch_normalization (BatchN  (None, 62, 62, 32)       128       \n",
      " ormalization)                                                   \n",
      "                                                                 \n",
      " max_pooling2d (MaxPooling2D  (None, 31, 31, 32)       0         \n",
      " )                                                               \n",
      "                                                                 \n",
      " conv2d_1 (Conv2D)           (None, 29, 29, 64)        18496     \n",
      "                                                                 \n",
      " max_pooling2d_1 (MaxPooling  (None, 14, 14, 64)       0         \n",
      " 2D)                                                             \n",
      "                                                                 \n",
      " dropout (Dropout)           (None, 14, 14, 64)        0         \n",
      "                                                                 \n",
      " conv2d_2 (Conv2D)           (None, 12, 12, 128)       73856     \n",
      "                                                                 \n",
      " max_pooling2d_2 (MaxPooling  (None, 6, 6, 128)        0         \n",
      " 2D)                                                             \n",
      "                                                                 \n",
      " dropout_1 (Dropout)         (None, 6, 6, 128)         0         \n",
      "                                                                 \n",
      " flatten (Flatten)           (None, 4608)              0         \n",
      "                                                                 \n",
      " dense (Dense)               (None, 128)               589952    \n",
      "                                                                 \n",
      " activation (Activation)     (None, 128)               0         \n",
      "                                                                 \n",
      " dropout_2 (Dropout)         (None, 128)               0         \n",
      "                                                                 \n",
      " dense_1 (Dense)             (None, 64)                8256      \n",
      "                                                                 \n",
      " activation_1 (Activation)   (None, 64)                0         \n",
      "                                                                 \n",
      " dropout_3 (Dropout)         (None, 64)                0         \n",
      "                                                                 \n",
      " dense_2 (Dense)             (None, 4)                 260       \n",
      "                                                                 \n",
      " activation_2 (Activation)   (None, 4)                 0         \n",
      "                                                                 \n",
      "=================================================================\n",
      "Total params: 691,844\n",
      "Trainable params: 691,780\n",
      "Non-trainable params: 64\n",
      "_________________________________________________________________\n"
     ]
    }
   ],
   "source": [
    "from keras.models import Sequential\n",
    "from keras.layers import Activation, Dropout, Flatten, Dense, Conv2D, MaxPool2D, BatchNormalization\n",
    "from keras.preprocessing import image\n",
    "from keras.preprocessing.image import ImageDataGenerator\n",
    "from keras.models import Sequential\n",
    "import numpy as np\n",
    "from glob import glob\n",
    "import matplotlib.pyplot as plt\n",
    "from keras.models import load_model\n",
    "\n",
    "# Start training freshly\n",
    "tf.keras.backend.clear_session()\n",
    "\n",
    "model = Sequential()\n",
    "model.add(Conv2D(filters=32,kernel_size=(3,3),input_shape=(image_size,image_size,3),activation='relu'))\n",
    "model.add(BatchNormalization())\n",
    "model.add(MaxPool2D(pool_size=(2,2)))\n",
    "\n",
    "model.add(Conv2D(filters=64,kernel_size=(3,3),activation='relu'))\n",
    "model.add(MaxPool2D(pool_size=(2,2)))\n",
    "model.add(Dropout(0.5))\n",
    "\n",
    "model.add(Conv2D(filters=128,kernel_size=(3,3),activation='relu'))\n",
    "model.add(MaxPool2D(pool_size=(2,2)))\n",
    "model.add(Dropout(0.5))\n",
    "\n",
    "model.add(Flatten())\n",
    "\n",
    "model.add(Dense(128))\n",
    "model.add(Activation('relu'))\n",
    "model.add(Dropout(0.5))\n",
    "\n",
    "model.add(Dense(64))\n",
    "model.add(Activation('relu'))\n",
    "model.add(Dropout(0.5))\n",
    "\n",
    "model.add(Dense(4))\n",
    "model.add(Activation('softmax'))\n",
    "\n",
    "model.compile(loss='categorical_crossentropy',optimizer='adam',metrics=['accuracy'])\n",
    "\n",
    "model.summary()"
   ]
  },
  {
   "cell_type": "code",
   "execution_count": null,
   "metadata": {
    "id": "-gJeujJEfIdi"
   },
   "outputs": [],
   "source": [
    "tensorboard = TensorBoard(log_dir = 'logs')\n",
    "checkpoint = ModelCheckpoint(\"CustomCNN-28.h5\",monitor=\"val_accuracy\",save_best_only=True,mode=\"auto\",verbose=1)\n",
    "reduce_lr = ReduceLROnPlateau(monitor = 'val_accuracy', factor = 0.3, patience = 2, min_delta = 0.001,\n",
    "                              mode='auto',verbose=1)"
   ]
  },
  {
   "cell_type": "code",
   "execution_count": null,
   "metadata": {
    "colab": {
     "base_uri": "https://localhost:8080/"
    },
    "executionInfo": {
     "elapsed": 42328,
     "status": "ok",
     "timestamp": 1663577937002,
     "user": {
      "displayName": "121710309055 VADDI SNEHIT",
      "userId": "14598604518360618740"
     },
     "user_tz": -330
    },
    "id": "Zzo6RZztfIdj",
    "outputId": "3064a46b-571c-44c6-f97a-70616368e6db"
   },
   "outputs": [
    {
     "name": "stdout",
     "output_type": "stream",
     "text": [
      "Epoch 1/28\n",
      "69/69 [==============================] - ETA: 0s - loss: 2.1803 - accuracy: 0.2608\n",
      "Epoch 1: val_accuracy improved from -inf to 0.31967, saving model to IncreaseLayer-model-28.h5\n",
      "69/69 [==============================] - 15s 32ms/step - loss: 2.1803 - accuracy: 0.2608 - val_loss: 1.3625 - val_accuracy: 0.3197 - lr: 0.0010\n",
      "Epoch 2/28\n",
      "68/69 [============================>.] - ETA: 0s - loss: 1.3533 - accuracy: 0.3226\n",
      "Epoch 2: val_accuracy improved from 0.31967 to 0.40164, saving model to IncreaseLayer-model-28.h5\n",
      "69/69 [==============================] - 1s 15ms/step - loss: 1.3538 - accuracy: 0.3211 - val_loss: 1.3360 - val_accuracy: 0.4016 - lr: 0.0010\n",
      "Epoch 3/28\n",
      "66/69 [===========================>..] - ETA: 0s - loss: 1.2938 - accuracy: 0.4119\n",
      "Epoch 3: val_accuracy improved from 0.40164 to 0.61475, saving model to IncreaseLayer-model-28.h5\n",
      "69/69 [==============================] - 1s 16ms/step - loss: 1.2946 - accuracy: 0.4099 - val_loss: 1.2522 - val_accuracy: 0.6148 - lr: 0.0010\n",
      "Epoch 4/28\n",
      "63/69 [==========================>...] - ETA: 0s - loss: 1.1961 - accuracy: 0.4712\n",
      "Epoch 4: val_accuracy did not improve from 0.61475\n",
      "69/69 [==============================] - 1s 9ms/step - loss: 1.1969 - accuracy: 0.4666 - val_loss: 1.2525 - val_accuracy: 0.4426 - lr: 0.0010\n",
      "Epoch 5/28\n",
      "65/69 [===========================>..] - ETA: 0s - loss: 1.1892 - accuracy: 0.4683\n",
      "Epoch 5: val_accuracy did not improve from 0.61475\n",
      "\n",
      "Epoch 5: ReduceLROnPlateau reducing learning rate to 0.0003000000142492354.\n",
      "69/69 [==============================] - 1s 10ms/step - loss: 1.1905 - accuracy: 0.4675 - val_loss: 1.1532 - val_accuracy: 0.4836 - lr: 0.0010\n",
      "Epoch 6/28\n",
      "65/69 [===========================>..] - ETA: 0s - loss: 1.0954 - accuracy: 0.5404\n",
      "Epoch 6: val_accuracy did not improve from 0.61475\n",
      "69/69 [==============================] - 1s 10ms/step - loss: 1.0924 - accuracy: 0.5416 - val_loss: 1.0698 - val_accuracy: 0.5902 - lr: 3.0000e-04\n",
      "Epoch 7/28\n",
      "69/69 [==============================] - ETA: 0s - loss: 1.0098 - accuracy: 0.5819\n",
      "Epoch 7: val_accuracy did not improve from 0.61475\n",
      "\n",
      "Epoch 7: ReduceLROnPlateau reducing learning rate to 9.000000427477062e-05.\n",
      "69/69 [==============================] - 1s 13ms/step - loss: 1.0098 - accuracy: 0.5819 - val_loss: 1.0538 - val_accuracy: 0.5164 - lr: 3.0000e-04\n",
      "Epoch 8/28\n",
      "64/69 [==========================>...] - ETA: 0s - loss: 1.0369 - accuracy: 0.5547\n",
      "Epoch 8: val_accuracy did not improve from 0.61475\n",
      "69/69 [==============================] - 1s 11ms/step - loss: 1.0294 - accuracy: 0.5608 - val_loss: 1.0152 - val_accuracy: 0.5410 - lr: 9.0000e-05\n",
      "Epoch 9/28\n",
      "63/69 [==========================>...] - ETA: 0s - loss: 0.9859 - accuracy: 0.5923\n",
      "Epoch 9: val_accuracy did not improve from 0.61475\n",
      "\n",
      "Epoch 9: ReduceLROnPlateau reducing learning rate to 2.700000040931627e-05.\n",
      "69/69 [==============================] - 1s 10ms/step - loss: 0.9883 - accuracy: 0.5901 - val_loss: 0.9908 - val_accuracy: 0.5902 - lr: 9.0000e-05\n",
      "Epoch 10/28\n",
      "63/69 [==========================>...] - ETA: 0s - loss: 1.0307 - accuracy: 0.5794\n",
      "Epoch 10: val_accuracy did not improve from 0.61475\n",
      "69/69 [==============================] - 1s 10ms/step - loss: 1.0321 - accuracy: 0.5810 - val_loss: 1.0085 - val_accuracy: 0.5574 - lr: 2.7000e-05\n",
      "Epoch 11/28\n",
      "62/69 [=========================>....] - ETA: 0s - loss: 1.0279 - accuracy: 0.5917\n",
      "Epoch 11: val_accuracy did not improve from 0.61475\n",
      "\n",
      "Epoch 11: ReduceLROnPlateau reducing learning rate to 8.100000013655517e-06.\n",
      "69/69 [==============================] - 1s 10ms/step - loss: 1.0201 - accuracy: 0.5956 - val_loss: 1.0144 - val_accuracy: 0.5656 - lr: 2.7000e-05\n",
      "Epoch 12/28\n",
      "63/69 [==========================>...] - ETA: 0s - loss: 0.9781 - accuracy: 0.5873\n",
      "Epoch 12: val_accuracy did not improve from 0.61475\n",
      "69/69 [==============================] - 1s 10ms/step - loss: 0.9803 - accuracy: 0.5874 - val_loss: 1.0103 - val_accuracy: 0.5656 - lr: 8.1000e-06\n",
      "Epoch 13/28\n",
      "69/69 [==============================] - ETA: 0s - loss: 0.9918 - accuracy: 0.5755\n",
      "Epoch 13: val_accuracy did not improve from 0.61475\n",
      "\n",
      "Epoch 13: ReduceLROnPlateau reducing learning rate to 2.429999949526973e-06.\n",
      "69/69 [==============================] - 1s 11ms/step - loss: 0.9918 - accuracy: 0.5755 - val_loss: 1.0091 - val_accuracy: 0.5738 - lr: 8.1000e-06\n",
      "Epoch 14/28\n",
      "69/69 [==============================] - ETA: 0s - loss: 0.9614 - accuracy: 0.6130\n",
      "Epoch 14: val_accuracy did not improve from 0.61475\n",
      "69/69 [==============================] - 1s 14ms/step - loss: 0.9614 - accuracy: 0.6130 - val_loss: 1.0079 - val_accuracy: 0.5738 - lr: 2.4300e-06\n",
      "Epoch 15/28\n",
      "68/69 [============================>.] - ETA: 0s - loss: 0.9742 - accuracy: 0.5983\n",
      "Epoch 15: val_accuracy did not improve from 0.61475\n",
      "\n",
      "Epoch 15: ReduceLROnPlateau reducing learning rate to 7.289999985005124e-07.\n",
      "69/69 [==============================] - 1s 10ms/step - loss: 0.9764 - accuracy: 0.5965 - val_loss: 1.0079 - val_accuracy: 0.5738 - lr: 2.4300e-06\n",
      "Epoch 16/28\n",
      "67/69 [============================>.] - ETA: 0s - loss: 1.0094 - accuracy: 0.5905\n",
      "Epoch 16: val_accuracy did not improve from 0.61475\n",
      "69/69 [==============================] - 1s 10ms/step - loss: 1.0124 - accuracy: 0.5901 - val_loss: 1.0076 - val_accuracy: 0.5738 - lr: 7.2900e-07\n",
      "Epoch 17/28\n",
      "68/69 [============================>.] - ETA: 0s - loss: 1.0089 - accuracy: 0.5846\n",
      "Epoch 17: val_accuracy did not improve from 0.61475\n",
      "\n",
      "Epoch 17: ReduceLROnPlateau reducing learning rate to 2.1870000637136398e-07.\n",
      "69/69 [==============================] - 1s 10ms/step - loss: 1.0069 - accuracy: 0.5855 - val_loss: 1.0072 - val_accuracy: 0.5656 - lr: 7.2900e-07\n",
      "Epoch 18/28\n",
      "63/69 [==========================>...] - ETA: 0s - loss: 0.9832 - accuracy: 0.5813\n",
      "Epoch 18: val_accuracy did not improve from 0.61475\n",
      "69/69 [==============================] - 1s 10ms/step - loss: 0.9808 - accuracy: 0.5855 - val_loss: 1.0072 - val_accuracy: 0.5656 - lr: 2.1870e-07\n",
      "Epoch 19/28\n",
      "67/69 [============================>.] - ETA: 0s - loss: 1.0091 - accuracy: 0.5858\n",
      "Epoch 19: val_accuracy did not improve from 0.61475\n",
      "\n",
      "Epoch 19: ReduceLROnPlateau reducing learning rate to 6.561000276406048e-08.\n",
      "69/69 [==============================] - 1s 11ms/step - loss: 1.0080 - accuracy: 0.5846 - val_loss: 1.0075 - val_accuracy: 0.5738 - lr: 2.1870e-07\n",
      "Epoch 20/28\n",
      "65/69 [===========================>..] - ETA: 0s - loss: 1.0125 - accuracy: 0.5962\n",
      "Epoch 20: val_accuracy did not improve from 0.61475\n",
      "69/69 [==============================] - 1s 12ms/step - loss: 1.0069 - accuracy: 0.5929 - val_loss: 1.0074 - val_accuracy: 0.5738 - lr: 6.5610e-08\n",
      "Epoch 21/28\n",
      "67/69 [============================>.] - ETA: 0s - loss: 0.9593 - accuracy: 0.5989\n",
      "Epoch 21: val_accuracy did not improve from 0.61475\n",
      "\n",
      "Epoch 21: ReduceLROnPlateau reducing learning rate to 1.9683000829218145e-08.\n",
      "69/69 [==============================] - 1s 11ms/step - loss: 0.9640 - accuracy: 0.5974 - val_loss: 1.0068 - val_accuracy: 0.5656 - lr: 6.5610e-08\n",
      "Epoch 22/28\n",
      "66/69 [===========================>..] - ETA: 0s - loss: 0.9891 - accuracy: 0.5947\n",
      "Epoch 22: val_accuracy did not improve from 0.61475\n",
      "69/69 [==============================] - 1s 16ms/step - loss: 0.9898 - accuracy: 0.5919 - val_loss: 1.0079 - val_accuracy: 0.5738 - lr: 1.9683e-08\n",
      "Epoch 23/28\n",
      "67/69 [============================>.] - ETA: 0s - loss: 0.9978 - accuracy: 0.5756\n",
      "Epoch 23: val_accuracy did not improve from 0.61475\n",
      "\n",
      "Epoch 23: ReduceLROnPlateau reducing learning rate to 5.904900035602622e-09.\n",
      "69/69 [==============================] - 1s 13ms/step - loss: 0.9956 - accuracy: 0.5773 - val_loss: 1.0073 - val_accuracy: 0.5656 - lr: 1.9683e-08\n",
      "Epoch 24/28\n",
      "67/69 [============================>.] - ETA: 0s - loss: 1.0053 - accuracy: 0.5989\n",
      "Epoch 24: val_accuracy did not improve from 0.61475\n",
      "69/69 [==============================] - 1s 13ms/step - loss: 1.0061 - accuracy: 0.5974 - val_loss: 1.0078 - val_accuracy: 0.5738 - lr: 5.9049e-09\n",
      "Epoch 25/28\n",
      "67/69 [============================>.] - ETA: 0s - loss: 0.9730 - accuracy: 0.6194\n",
      "Epoch 25: val_accuracy did not improve from 0.61475\n",
      "\n",
      "Epoch 25: ReduceLROnPlateau reducing learning rate to 1.7714700373261393e-09.\n",
      "69/69 [==============================] - 1s 14ms/step - loss: 0.9708 - accuracy: 0.6194 - val_loss: 1.0075 - val_accuracy: 0.5738 - lr: 5.9049e-09\n",
      "Epoch 26/28\n",
      "66/69 [===========================>..] - ETA: 0s - loss: 0.9998 - accuracy: 0.5777\n",
      "Epoch 26: val_accuracy did not improve from 0.61475\n",
      "69/69 [==============================] - 1s 13ms/step - loss: 1.0025 - accuracy: 0.5755 - val_loss: 1.0068 - val_accuracy: 0.5656 - lr: 1.7715e-09\n",
      "Epoch 27/28\n",
      "69/69 [==============================] - ETA: 0s - loss: 0.9853 - accuracy: 0.5874\n",
      "Epoch 27: val_accuracy did not improve from 0.61475\n",
      "\n",
      "Epoch 27: ReduceLROnPlateau reducing learning rate to 5.314410245205181e-10.\n",
      "69/69 [==============================] - 1s 13ms/step - loss: 0.9853 - accuracy: 0.5874 - val_loss: 1.0076 - val_accuracy: 0.5738 - lr: 1.7715e-09\n",
      "Epoch 28/28\n",
      "67/69 [============================>.] - ETA: 0s - loss: 0.9717 - accuracy: 0.6101\n",
      "Epoch 28: val_accuracy did not improve from 0.61475\n",
      "69/69 [==============================] - 1s 17ms/step - loss: 0.9765 - accuracy: 0.6057 - val_loss: 1.0068 - val_accuracy: 0.5656 - lr: 5.3144e-10\n"
     ]
    }
   ],
   "source": [
    "history = model.fit(X_train,y_train,validation_split=0.1, epochs =28, verbose=1, batch_size=16,\n",
    "                   callbacks=[tensorboard,checkpoint,reduce_lr])"
   ]
  },
  {
   "cell_type": "markdown",
   "metadata": {
    "id": "A-smi4E6sTi-"
   },
   "source": [
    "### Visulizations"
   ]
  },
  {
   "cell_type": "code",
   "execution_count": null,
   "metadata": {
    "colab": {
     "base_uri": "https://localhost:8080/",
     "height": 573
    },
    "executionInfo": {
     "elapsed": 1247,
     "status": "ok",
     "timestamp": 1663577959318,
     "user": {
      "displayName": "121710309055 VADDI SNEHIT",
      "userId": "14598604518360618740"
     },
     "user_tz": -330
    },
    "id": "ONJzg_0QfIdk",
    "outputId": "ced533d9-1697-4a1d-cd81-b6966d6720b9"
   },
   "outputs": [
    {
     "data": {
      "image/png": "[encoded data removed]",
      "text/plain": [
       "<Figure size 432x288 with 1 Axes>"
      ]
     },
     "metadata": {},
     "output_type": "display_data"
    },
    {
     "data": {
      "image/png": "[encoded data removed]",
      "text/plain": [
       "<Figure size 432x288 with 1 Axes>"
      ]
     },
     "metadata": {},
     "output_type": "display_data"
    }
   ],
   "source": [
    "#Visualize Training\n",
    "def plot_graphs(history, string):\n",
    "    sns.set_style(\"whitegrid\")\n",
    "    plt.plot(history.history[string])\n",
    "    plt.plot(history.history[\"val_\"+string])\n",
    "    plt.xlabel(\"Epochs\")\n",
    "    plt.ylabel(string)\n",
    "    plt.title(\"Brain Tumor Model-15 Epochs\")\n",
    "    plt.legend([string,\"val_\"+string])\n",
    "    plt.show()\n",
    "plot_graphs(history,'accuracy')\n",
    "plot_graphs(history,'loss')"
   ]
  },
  {
   "cell_type": "code",
   "execution_count": null,
   "metadata": {
    "colab": {
     "base_uri": "https://localhost:8080/"
    },
    "executionInfo": {
     "elapsed": 765,
     "status": "ok",
     "timestamp": 1663577960072,
     "user": {
      "displayName": "121710309055 VADDI SNEHIT",
      "userId": "14598604518360618740"
     },
     "user_tz": -330
    },
    "id": "pvIaUfWufIdl",
    "outputId": "8015702d-02e5-442a-882a-fc4058069743"
   },
   "outputs": [
    {
     "name": "stdout",
     "output_type": "stream",
     "text": [
      "              precision    recall  f1-score   support\n",
      "\n",
      "           0       0.72      0.69      0.71        42\n",
      "           1       0.39      0.30      0.34        23\n",
      "           2       0.74      0.61      0.67        38\n",
      "           3       0.67      0.97      0.79        32\n",
      "\n",
      "    accuracy                           0.67       135\n",
      "   macro avg       0.63      0.64      0.63       135\n",
      "weighted avg       0.66      0.67      0.65       135\n",
      "\n"
     ]
    }
   ],
   "source": [
    "pred = model.predict(X_test)\n",
    "pred = np.argmax(pred,axis=1)\n",
    "y_test_new = np.argmax(y_test,axis=1)\n",
    "print(classification_report(y_test_new,pred))"
   ]
  },
  {
   "cell_type": "code",
   "execution_count": null,
   "metadata": {
    "colab": {
     "base_uri": "https://localhost:8080/",
     "height": 459
    },
    "executionInfo": {
     "elapsed": 851,
     "status": "ok",
     "timestamp": 1663577968028,
     "user": {
      "displayName": "121710309055 VADDI SNEHIT",
      "userId": "14598604518360618740"
     },
     "user_tz": -330
    },
    "id": "e1qfZozkfIdn",
    "outputId": "475d0962-156b-4ad4-9f41-2bb790091394"
   },
   "outputs": [
    {
     "data": {
      "image/png": "[encoded data removed]",
      "text/plain": [
       "<Figure size 1008x504 with 2 Axes>"
      ]
     },
     "metadata": {},
     "output_type": "display_data"
    }
   ],
   "source": [
    "fig,ax=plt.subplots(1,1,figsize=(14,7))\n",
    "sns.heatmap(confusion_matrix(y_test_new,pred),ax=ax,xticklabels=labels,yticklabels=labels,annot=True)\n",
    "fig.text(s='Heatmap of the Confusion Matrix',size=12,y=0.92,x=0.28,alpha=0.8)\n",
    "\n",
    "plt.show()"
   ]
  },
  {
   "cell_type": "markdown",
   "metadata": {
    "id": "KI9qYHIdMNGs"
   },
   "source": [
    "---"
   ]
  },
  {
   "cell_type": "markdown",
   "metadata": {
    "id": "hwd7AGpjT_SM"
   },
   "source": [
    "# IEEE CNN model"
   ]
  },
  {
   "cell_type": "code",
   "execution_count": null,
   "metadata": {
    "colab": {
     "base_uri": "https://localhost:8080/"
    },
    "executionInfo": {
     "elapsed": 603,
     "status": "ok",
     "timestamp": 1663578206127,
     "user": {
      "displayName": "121710309055 VADDI SNEHIT",
      "userId": "14598604518360618740"
     },
     "user_tz": -330
    },
    "id": "eB-P_3p494UL",
    "outputId": "8070f497-1a1f-490a-93e0-25105c36f7d5"
   },
   "outputs": [
    {
     "name": "stdout",
     "output_type": "stream",
     "text": [
      "Model: \"sequential\"\n",
      "_________________________________________________________________\n",
      " Layer (type)                Output Shape              Param #   \n",
      "=================================================================\n",
      " conv2d (Conv2D)             (None, 62, 62, 32)        896       \n",
      "                                                                 \n",
      " batch_normalization (BatchN  (None, 62, 62, 32)       128       \n",
      " ormalization)                                                   \n",
      "                                                                 \n",
      " max_pooling2d (MaxPooling2D  (None, 31, 31, 32)       0         \n",
      " )                                                               \n",
      "                                                                 \n",
      " conv2d_1 (Conv2D)           (None, 29, 29, 64)        18496     \n",
      "                                                                 \n",
      " max_pooling2d_1 (MaxPooling  (None, 14, 14, 64)       0         \n",
      " 2D)                                                             \n",
      "                                                                 \n",
      " dropout (Dropout)           (None, 14, 14, 64)        0         \n",
      "                                                                 \n",
      " conv2d_2 (Conv2D)           (None, 12, 12, 128)       73856     \n",
      "                                                                 \n",
      " max_pooling2d_2 (MaxPooling  (None, 6, 6, 128)        0         \n",
      " 2D)                                                             \n",
      "                                                                 \n",
      " dropout_1 (Dropout)         (None, 6, 6, 128)         0         \n",
      "                                                                 \n",
      " flatten (Flatten)           (None, 4608)              0         \n",
      "                                                                 \n",
      " dense (Dense)               (None, 64)                294976    \n",
      "                                                                 \n",
      " activation (Activation)     (None, 64)                0         \n",
      "                                                                 \n",
      " dense_1 (Dense)             (None, 4)                 260       \n",
      "                                                                 \n",
      " activation_1 (Activation)   (None, 4)                 0         \n",
      "                                                                 \n",
      "=================================================================\n",
      "Total params: 388,612\n",
      "Trainable params: 388,548\n",
      "Non-trainable params: 64\n",
      "_________________________________________________________________\n"
     ]
    }
   ],
   "source": [
    "from keras.models import Sequential\n",
    "from keras.layers import Activation, Dropout, Flatten, Dense, Conv2D, MaxPool2D, BatchNormalization\n",
    "from keras.preprocessing import image\n",
    "from keras.preprocessing.image import ImageDataGenerator\n",
    "from keras.models import Sequential\n",
    "import numpy as np\n",
    "from glob import glob\n",
    "import matplotlib.pyplot as plt\n",
    "from keras.models import load_model\n",
    "\n",
    "# Start training freshly\n",
    "tf.keras.backend.clear_session()\n",
    "\n",
    "model = Sequential()\n",
    "model.add(Conv2D(filters=32,kernel_size=(3,3),input_shape=(image_size,image_size,3),activation='relu'))\n",
    "model.add(BatchNormalization())\n",
    "model.add(MaxPool2D(pool_size=(2,2)))\n",
    "\n",
    "model.add(Conv2D(filters=64,kernel_size=(3,3),activation='relu'))\n",
    "model.add(MaxPool2D(pool_size=(2,2)))\n",
    "model.add(Dropout(0.5))\n",
    "\n",
    "model.add(Conv2D(filters=128,kernel_size=(3,3),activation='relu'))\n",
    "model.add(MaxPool2D(pool_size=(2,2)))\n",
    "model.add(Dropout(0.5))\n",
    "\n",
    "model.add(Flatten())\n",
    "\n",
    "model.add(Dense(64))\n",
    "model.add(Activation('relu'))\n",
    "\n",
    "model.add(Dense(4))\n",
    "model.add(Activation('softmax'))\n",
    "\n",
    "model.compile(loss='categorical_crossentropy',optimizer='adam',metrics=['accuracy'])\n",
    "\n",
    "model.summary()"
   ]
  },
  {
   "cell_type": "code",
   "execution_count": null,
   "metadata": {
    "id": "G02qajI_95V1"
   },
   "outputs": [],
   "source": [
    "tensorboard = TensorBoard(log_dir = 'logs')\n",
    "checkpoint = ModelCheckpoint(\"IEEE-model-35.h5\",monitor=\"val_accuracy\",save_best_only=True,mode=\"auto\",verbose=1)\n",
    "reduce_lr = ReduceLROnPlateau(monitor = 'val_accuracy', factor = 0.3, patience = 2, min_delta = 0.001,\n",
    "                              mode='auto',verbose=1)"
   ]
  },
  {
   "cell_type": "code",
   "execution_count": null,
   "metadata": {
    "colab": {
     "base_uri": "https://localhost:8080/"
    },
    "executionInfo": {
     "elapsed": 16370,
     "status": "ok",
     "timestamp": 1663578222969,
     "user": {
      "displayName": "121710309055 VADDI SNEHIT",
      "userId": "14598604518360618740"
     },
     "user_tz": -330
    },
    "id": "wRgF12mh94RE",
    "outputId": "0c534b60-97d9-43c6-9cf3-aa8df3c75c5d"
   },
   "outputs": [
    {
     "name": "stdout",
     "output_type": "stream",
     "text": [
      "Epoch 1/35\n",
      "64/69 [==========================>...] - ETA: 0s - loss: 1.8115 - accuracy: 0.3721\n",
      "Epoch 1: val_accuracy improved from -inf to 0.39344, saving model to IEEE-model-35.h5\n",
      "69/69 [==============================] - 1s 9ms/step - loss: 1.7746 - accuracy: 0.3797 - val_loss: 1.2661 - val_accuracy: 0.3934 - lr: 0.0010\n",
      "Epoch 2/35\n",
      "68/69 [============================>.] - ETA: 0s - loss: 1.0385 - accuracy: 0.5643\n",
      "Epoch 2: val_accuracy improved from 0.39344 to 0.50820, saving model to IEEE-model-35.h5\n",
      "69/69 [==============================] - 0s 7ms/step - loss: 1.0381 - accuracy: 0.5645 - val_loss: 1.0792 - val_accuracy: 0.5082 - lr: 0.0010\n",
      "Epoch 3/35\n",
      "67/69 [============================>.] - ETA: 0s - loss: 0.8842 - accuracy: 0.6446\n",
      "Epoch 3: val_accuracy improved from 0.50820 to 0.63115, saving model to IEEE-model-35.h5\n",
      "69/69 [==============================] - 0s 6ms/step - loss: 0.8922 - accuracy: 0.6423 - val_loss: 0.9507 - val_accuracy: 0.6311 - lr: 0.0010\n",
      "Epoch 4/35\n",
      "64/69 [==========================>...] - ETA: 0s - loss: 0.8089 - accuracy: 0.6816\n",
      "Epoch 4: val_accuracy improved from 0.63115 to 0.63934, saving model to IEEE-model-35.h5\n",
      "69/69 [==============================] - 0s 6ms/step - loss: 0.8059 - accuracy: 0.6834 - val_loss: 0.9539 - val_accuracy: 0.6393 - lr: 0.0010\n",
      "Epoch 5/35\n",
      "66/69 [===========================>..] - ETA: 0s - loss: 0.7474 - accuracy: 0.7027\n",
      "Epoch 5: val_accuracy did not improve from 0.63934\n",
      "69/69 [==============================] - 0s 5ms/step - loss: 0.7450 - accuracy: 0.6999 - val_loss: 0.8345 - val_accuracy: 0.6230 - lr: 0.0010\n",
      "Epoch 6/35\n",
      "67/69 [============================>.] - ETA: 0s - loss: 0.6614 - accuracy: 0.7453\n",
      "Epoch 6: val_accuracy improved from 0.63934 to 0.67213, saving model to IEEE-model-35.h5\n",
      "69/69 [==============================] - 0s 6ms/step - loss: 0.6645 - accuracy: 0.7429 - val_loss: 0.8514 - val_accuracy: 0.6721 - lr: 0.0010\n",
      "Epoch 7/35\n",
      "65/69 [===========================>..] - ETA: 0s - loss: 0.6456 - accuracy: 0.7317\n",
      "Epoch 7: val_accuracy did not improve from 0.67213\n",
      "69/69 [==============================] - 0s 6ms/step - loss: 0.6348 - accuracy: 0.7356 - val_loss: 0.8806 - val_accuracy: 0.6311 - lr: 0.0010\n",
      "Epoch 8/35\n",
      "63/69 [==========================>...] - ETA: 0s - loss: 0.6245 - accuracy: 0.7629\n",
      "Epoch 8: val_accuracy did not improve from 0.67213\n",
      "\n",
      "Epoch 8: ReduceLROnPlateau reducing learning rate to 0.0003000000142492354.\n",
      "69/69 [==============================] - 0s 6ms/step - loss: 0.6246 - accuracy: 0.7612 - val_loss: 0.7786 - val_accuracy: 0.6311 - lr: 0.0010\n",
      "Epoch 9/35\n",
      "65/69 [===========================>..] - ETA: 0s - loss: 0.5020 - accuracy: 0.7962\n",
      "Epoch 9: val_accuracy improved from 0.67213 to 0.68033, saving model to IEEE-model-35.h5\n",
      "69/69 [==============================] - 0s 6ms/step - loss: 0.5049 - accuracy: 0.7960 - val_loss: 0.7231 - val_accuracy: 0.6803 - lr: 3.0000e-04\n",
      "Epoch 10/35\n",
      "67/69 [============================>.] - ETA: 0s - loss: 0.4758 - accuracy: 0.8116\n",
      "Epoch 10: val_accuracy improved from 0.68033 to 0.73770, saving model to IEEE-model-35.h5\n",
      "69/69 [==============================] - 0s 6ms/step - loss: 0.4773 - accuracy: 0.8097 - val_loss: 0.7321 - val_accuracy: 0.7377 - lr: 3.0000e-04\n",
      "Epoch 11/35\n",
      "67/69 [============================>.] - ETA: 0s - loss: 0.4594 - accuracy: 0.8088\n",
      "Epoch 11: val_accuracy did not improve from 0.73770\n",
      "69/69 [==============================] - 0s 5ms/step - loss: 0.4558 - accuracy: 0.8124 - val_loss: 0.7532 - val_accuracy: 0.7049 - lr: 3.0000e-04\n",
      "Epoch 12/35\n",
      "69/69 [==============================] - ETA: 0s - loss: 0.4461 - accuracy: 0.8124\n",
      "Epoch 12: val_accuracy did not improve from 0.73770\n",
      "\n",
      "Epoch 12: ReduceLROnPlateau reducing learning rate to 9.000000427477062e-05.\n",
      "69/69 [==============================] - 0s 5ms/step - loss: 0.4461 - accuracy: 0.8124 - val_loss: 0.7054 - val_accuracy: 0.7131 - lr: 3.0000e-04\n",
      "Epoch 13/35\n",
      "58/69 [========================>.....] - ETA: 0s - loss: 0.4492 - accuracy: 0.8297\n",
      "Epoch 13: val_accuracy did not improve from 0.73770\n",
      "69/69 [==============================] - 0s 5ms/step - loss: 0.4455 - accuracy: 0.8280 - val_loss: 0.7106 - val_accuracy: 0.6967 - lr: 9.0000e-05\n",
      "Epoch 14/35\n",
      "68/69 [============================>.] - ETA: 0s - loss: 0.3972 - accuracy: 0.8410\n",
      "Epoch 14: val_accuracy did not improve from 0.73770\n",
      "\n",
      "Epoch 14: ReduceLROnPlateau reducing learning rate to 2.700000040931627e-05.\n",
      "69/69 [==============================] - 0s 5ms/step - loss: 0.3983 - accuracy: 0.8408 - val_loss: 0.7080 - val_accuracy: 0.7049 - lr: 9.0000e-05\n",
      "Epoch 15/35\n",
      "68/69 [============================>.] - ETA: 0s - loss: 0.3919 - accuracy: 0.8318\n",
      "Epoch 15: val_accuracy did not improve from 0.73770\n",
      "69/69 [==============================] - 0s 5ms/step - loss: 0.3931 - accuracy: 0.8317 - val_loss: 0.6961 - val_accuracy: 0.6967 - lr: 2.7000e-05\n",
      "Epoch 16/35\n",
      "67/69 [============================>.] - ETA: 0s - loss: 0.4074 - accuracy: 0.8396\n",
      "Epoch 16: val_accuracy did not improve from 0.73770\n",
      "\n",
      "Epoch 16: ReduceLROnPlateau reducing learning rate to 8.100000013655517e-06.\n",
      "69/69 [==============================] - 0s 6ms/step - loss: 0.4067 - accuracy: 0.8390 - val_loss: 0.6991 - val_accuracy: 0.6967 - lr: 2.7000e-05\n",
      "Epoch 17/35\n",
      "65/69 [===========================>..] - ETA: 0s - loss: 0.3937 - accuracy: 0.8394\n",
      "Epoch 17: val_accuracy did not improve from 0.73770\n",
      "69/69 [==============================] - 0s 6ms/step - loss: 0.4041 - accuracy: 0.8362 - val_loss: 0.6992 - val_accuracy: 0.6967 - lr: 8.1000e-06\n",
      "Epoch 18/35\n",
      "69/69 [==============================] - ETA: 0s - loss: 0.4107 - accuracy: 0.8344\n",
      "Epoch 18: val_accuracy did not improve from 0.73770\n",
      "\n",
      "Epoch 18: ReduceLROnPlateau reducing learning rate to 2.429999949526973e-06.\n",
      "69/69 [==============================] - 0s 5ms/step - loss: 0.4107 - accuracy: 0.8344 - val_loss: 0.6990 - val_accuracy: 0.6967 - lr: 8.1000e-06\n",
      "Epoch 19/35\n",
      "69/69 [==============================] - ETA: 0s - loss: 0.3909 - accuracy: 0.8600\n",
      "Epoch 19: val_accuracy did not improve from 0.73770\n",
      "69/69 [==============================] - 0s 6ms/step - loss: 0.3909 - accuracy: 0.8600 - val_loss: 0.6987 - val_accuracy: 0.6967 - lr: 2.4300e-06\n",
      "Epoch 20/35\n",
      "67/69 [============================>.] - ETA: 0s - loss: 0.3803 - accuracy: 0.8424\n",
      "Epoch 20: val_accuracy did not improve from 0.73770\n",
      "\n",
      "Epoch 20: ReduceLROnPlateau reducing learning rate to 7.289999985005124e-07.\n",
      "69/69 [==============================] - 0s 5ms/step - loss: 0.3785 - accuracy: 0.8445 - val_loss: 0.6986 - val_accuracy: 0.6967 - lr: 2.4300e-06\n",
      "Epoch 21/35\n",
      "66/69 [===========================>..] - ETA: 0s - loss: 0.3868 - accuracy: 0.8428\n",
      "Epoch 21: val_accuracy did not improve from 0.73770\n",
      "69/69 [==============================] - 0s 6ms/step - loss: 0.3835 - accuracy: 0.8435 - val_loss: 0.6985 - val_accuracy: 0.7049 - lr: 7.2900e-07\n",
      "Epoch 22/35\n",
      "66/69 [===========================>..] - ETA: 0s - loss: 0.3614 - accuracy: 0.8665\n",
      "Epoch 22: val_accuracy did not improve from 0.73770\n",
      "\n",
      "Epoch 22: ReduceLROnPlateau reducing learning rate to 2.1870000637136398e-07.\n",
      "69/69 [==============================] - 0s 6ms/step - loss: 0.3640 - accuracy: 0.8637 - val_loss: 0.6987 - val_accuracy: 0.6967 - lr: 7.2900e-07\n",
      "Epoch 23/35\n",
      "58/69 [========================>.....] - ETA: 0s - loss: 0.4086 - accuracy: 0.8384\n",
      "Epoch 23: val_accuracy did not improve from 0.73770\n",
      "69/69 [==============================] - 0s 5ms/step - loss: 0.4010 - accuracy: 0.8417 - val_loss: 0.6983 - val_accuracy: 0.7049 - lr: 2.1870e-07\n",
      "Epoch 24/35\n",
      "66/69 [===========================>..] - ETA: 0s - loss: 0.3860 - accuracy: 0.8428\n",
      "Epoch 24: val_accuracy did not improve from 0.73770\n",
      "\n",
      "Epoch 24: ReduceLROnPlateau reducing learning rate to 6.561000276406048e-08.\n",
      "69/69 [==============================] - 0s 6ms/step - loss: 0.3823 - accuracy: 0.8454 - val_loss: 0.6985 - val_accuracy: 0.7049 - lr: 2.1870e-07\n",
      "Epoch 25/35\n",
      "67/69 [============================>.] - ETA: 0s - loss: 0.3833 - accuracy: 0.8517\n",
      "Epoch 25: val_accuracy did not improve from 0.73770\n",
      "69/69 [==============================] - 1s 11ms/step - loss: 0.3818 - accuracy: 0.8527 - val_loss: 0.6983 - val_accuracy: 0.7049 - lr: 6.5610e-08\n",
      "Epoch 26/35\n",
      "63/69 [==========================>...] - ETA: 0s - loss: 0.3977 - accuracy: 0.8393\n",
      "Epoch 26: val_accuracy did not improve from 0.73770\n",
      "\n",
      "Epoch 26: ReduceLROnPlateau reducing learning rate to 1.9683000829218145e-08.\n",
      "69/69 [==============================] - 1s 8ms/step - loss: 0.4003 - accuracy: 0.8408 - val_loss: 0.6989 - val_accuracy: 0.7049 - lr: 6.5610e-08\n",
      "Epoch 27/35\n",
      "66/69 [===========================>..] - ETA: 0s - loss: 0.3918 - accuracy: 0.8485\n",
      "Epoch 27: val_accuracy did not improve from 0.73770\n",
      "69/69 [==============================] - 0s 6ms/step - loss: 0.3907 - accuracy: 0.8481 - val_loss: 0.6989 - val_accuracy: 0.7049 - lr: 1.9683e-08\n",
      "Epoch 28/35\n",
      "67/69 [============================>.] - ETA: 0s - loss: 0.3719 - accuracy: 0.8554\n",
      "Epoch 28: val_accuracy did not improve from 0.73770\n",
      "\n",
      "Epoch 28: ReduceLROnPlateau reducing learning rate to 5.904900035602622e-09.\n",
      "69/69 [==============================] - 0s 5ms/step - loss: 0.3757 - accuracy: 0.8527 - val_loss: 0.6988 - val_accuracy: 0.7049 - lr: 1.9683e-08\n",
      "Epoch 29/35\n",
      "67/69 [============================>.] - ETA: 0s - loss: 0.3864 - accuracy: 0.8461\n",
      "Epoch 29: val_accuracy did not improve from 0.73770\n",
      "69/69 [==============================] - 0s 5ms/step - loss: 0.3850 - accuracy: 0.8463 - val_loss: 0.6986 - val_accuracy: 0.7049 - lr: 5.9049e-09\n",
      "Epoch 30/35\n",
      "66/69 [===========================>..] - ETA: 0s - loss: 0.3829 - accuracy: 0.8608\n",
      "Epoch 30: val_accuracy did not improve from 0.73770\n",
      "\n",
      "Epoch 30: ReduceLROnPlateau reducing learning rate to 1.7714700373261393e-09.\n",
      "69/69 [==============================] - 0s 6ms/step - loss: 0.3803 - accuracy: 0.8628 - val_loss: 0.6987 - val_accuracy: 0.7049 - lr: 5.9049e-09\n",
      "Epoch 31/35\n",
      "66/69 [===========================>..] - ETA: 0s - loss: 0.3884 - accuracy: 0.8447\n",
      "Epoch 31: val_accuracy did not improve from 0.73770\n",
      "69/69 [==============================] - 0s 6ms/step - loss: 0.3843 - accuracy: 0.8472 - val_loss: 0.6988 - val_accuracy: 0.7049 - lr: 1.7715e-09\n",
      "Epoch 32/35\n",
      "66/69 [===========================>..] - ETA: 0s - loss: 0.3791 - accuracy: 0.8513\n",
      "Epoch 32: val_accuracy did not improve from 0.73770\n",
      "\n",
      "Epoch 32: ReduceLROnPlateau reducing learning rate to 5.314410245205181e-10.\n",
      "69/69 [==============================] - 0s 6ms/step - loss: 0.3768 - accuracy: 0.8527 - val_loss: 0.6989 - val_accuracy: 0.7049 - lr: 1.7715e-09\n",
      "Epoch 33/35\n",
      "59/69 [========================>.....] - ETA: 0s - loss: 0.3820 - accuracy: 0.8676\n",
      "Epoch 33: val_accuracy did not improve from 0.73770\n",
      "69/69 [==============================] - 0s 5ms/step - loss: 0.3886 - accuracy: 0.8545 - val_loss: 0.6989 - val_accuracy: 0.7049 - lr: 5.3144e-10\n",
      "Epoch 34/35\n",
      "64/69 [==========================>...] - ETA: 0s - loss: 0.4058 - accuracy: 0.8477\n",
      "Epoch 34: val_accuracy did not improve from 0.73770\n",
      "\n",
      "Epoch 34: ReduceLROnPlateau reducing learning rate to 1.5943230069481729e-10.\n",
      "69/69 [==============================] - 0s 6ms/step - loss: 0.4037 - accuracy: 0.8481 - val_loss: 0.6986 - val_accuracy: 0.7049 - lr: 5.3144e-10\n",
      "Epoch 35/35\n",
      "65/69 [===========================>..] - ETA: 0s - loss: 0.3835 - accuracy: 0.8452\n",
      "Epoch 35: val_accuracy did not improve from 0.73770\n",
      "69/69 [==============================] - 0s 5ms/step - loss: 0.3808 - accuracy: 0.8463 - val_loss: 0.6988 - val_accuracy: 0.7049 - lr: 1.5943e-10\n"
     ]
    }
   ],
   "source": [
    "history = model.fit(X_train,y_train,validation_split=0.1, epochs =35, verbose=1, batch_size=16,\n",
    "                   callbacks=[tensorboard,checkpoint,reduce_lr])"
   ]
  },
  {
   "cell_type": "markdown",
   "metadata": {
    "id": "yo1CiFJAsdIq"
   },
   "source": [
    "### Visualizations"
   ]
  },
  {
   "cell_type": "code",
   "execution_count": null,
   "metadata": {
    "colab": {
     "base_uri": "https://localhost:8080/",
     "height": 573
    },
    "executionInfo": {
     "elapsed": 58,
     "status": "ok",
     "timestamp": 1663578222970,
     "user": {
      "displayName": "121710309055 VADDI SNEHIT",
      "userId": "14598604518360618740"
     },
     "user_tz": -330
    },
    "id": "iUB40vSh-7pi",
    "outputId": "01c3ef81-2ed2-4e6b-a601-62cd7fabe315"
   },
   "outputs": [
    {
     "data": {
      "image/png": "[encoded data removed]",
      "text/plain": [
       "<Figure size 432x288 with 1 Axes>"
      ]
     },
     "metadata": {},
     "output_type": "display_data"
    },
    {
     "data": {
      "image/png": "[encoded data removed]",
      "text/plain": [
       "<Figure size 432x288 with 1 Axes>"
      ]
     },
     "metadata": {},
     "output_type": "display_data"
    }
   ],
   "source": [
    "#Visualize Training\n",
    "def plot_graphs(history, string):\n",
    "    sns.set_style(\"whitegrid\")\n",
    "    plt.plot(history.history[string])\n",
    "    plt.plot(history.history[\"val_\"+string])\n",
    "    plt.xlabel(\"Epochs\")\n",
    "    plt.ylabel(string)\n",
    "    plt.title(\"Brain Tumor Model-15 Epochs\")\n",
    "    plt.legend([string,\"val_\"+string])\n",
    "    plt.show()\n",
    "plot_graphs(history,'accuracy')\n",
    "plot_graphs(history,'loss')"
   ]
  },
  {
   "cell_type": "code",
   "execution_count": null,
   "metadata": {
    "colab": {
     "base_uri": "https://localhost:8080/"
    },
    "executionInfo": {
     "elapsed": 8,
     "status": "ok",
     "timestamp": 1663578223638,
     "user": {
      "displayName": "121710309055 VADDI SNEHIT",
      "userId": "14598604518360618740"
     },
     "user_tz": -330
    },
    "id": "5d2JV65m94Os",
    "outputId": "36a086ee-37d5-4930-ecdc-062ff660287f"
   },
   "outputs": [
    {
     "name": "stdout",
     "output_type": "stream",
     "text": [
      "              precision    recall  f1-score   support\n",
      "\n",
      "           0       0.71      0.69      0.70        42\n",
      "           1       0.43      0.43      0.43        23\n",
      "           2       0.78      0.76      0.77        38\n",
      "           3       0.91      0.97      0.94        32\n",
      "\n",
      "    accuracy                           0.73       135\n",
      "   macro avg       0.71      0.71      0.71       135\n",
      "weighted avg       0.73      0.73      0.73       135\n",
      "\n"
     ]
    }
   ],
   "source": [
    "pred = model.predict(X_test)\n",
    "pred = np.argmax(pred,axis=1)\n",
    "y_test_new = np.argmax(y_test,axis=1)\n",
    "print(classification_report(y_test_new,pred))"
   ]
  },
  {
   "cell_type": "code",
   "execution_count": null,
   "metadata": {
    "colab": {
     "base_uri": "https://localhost:8080/",
     "height": 459
    },
    "executionInfo": {
     "elapsed": 23,
     "status": "ok",
     "timestamp": 1663578162552,
     "user": {
      "displayName": "121710309055 VADDI SNEHIT",
      "userId": "14598604518360618740"
     },
     "user_tz": -330
    },
    "id": "QRHwSN_S94A7",
    "outputId": "a8f5102c-35b5-4e61-d6a8-caabd57cc021"
   },
   "outputs": [
    {
     "data": {
      "image/png": "[encoded data removed]",
      "text/plain": [
       "<Figure size 1008x504 with 2 Axes>"
      ]
     },
     "metadata": {},
     "output_type": "display_data"
    }
   ],
   "source": [
    "fig,ax=plt.subplots(1,1,figsize=(14,7))\n",
    "sns.heatmap(confusion_matrix(y_test_new,pred),ax=ax,xticklabels=labels,yticklabels=labels,annot=True)\n",
    "fig.text(s='Heatmap of the Confusion Matrix',size=12,y=0.92,x=0.28,alpha=0.8)\n",
    "\n",
    "plt.show()"
   ]
  },
  {
   "cell_type": "markdown",
   "metadata": {
    "id": "6CYO2oLkgaOT"
   },
   "source": [
    "# Transfer Learning"
   ]
  },
  {
   "cell_type": "markdown",
   "metadata": {
    "id": "ga91eKCdme7R"
   },
   "source": [
    "## EfficientNetB0"
   ]
  },
  {
   "cell_type": "markdown",
   "metadata": {
    "id": "aIAI69bOgaOT"
   },
   "source": [
    "\n",
    "Deep convolutional neural network models may take days or even weeks to train on very large datasets.\n",
    "\n",
    "A way to short-cut this process is to re-use the model weights from pre-trained models that were developed for standard computer vision benchmark datasets, such as the ImageNet image recognition tasks. Top performing models can be downloaded and used directly, or integrated into a new model for your own computer vision problems.\n",
    "\n",
    "In this notebook, I'll be using the **EfficientNetB0** model which will use the weights from the **ImageNet** dataset.\n",
    "\n",
    "The include_top parameter is set to *False* so that the network doesn't include the top layer/ output layer from the pre-built model which allows us to add our own output layer depending upon our use case!"
   ]
  },
  {
   "cell_type": "code",
   "execution_count": null,
   "metadata": {
    "colab": {
     "base_uri": "https://localhost:8080/"
    },
    "executionInfo": {
     "elapsed": 2111,
     "status": "ok",
     "timestamp": 1663578578327,
     "user": {
      "displayName": "121710309055 VADDI SNEHIT",
      "userId": "14598604518360618740"
     },
     "user_tz": -330
    },
    "id": "520dGzJKgaOU",
    "outputId": "1e96fa49-e013-4a5c-d758-d3da7f607995"
   },
   "outputs": [
    {
     "name": "stdout",
     "output_type": "stream",
     "text": [
      "Downloading data from https://storage.googleapis.com/keras-applications/efficientnetb0_notop.h5\n",
      "16711680/16705208 [==============================] - 0s 0us/step\n",
      "16719872/16705208 [==============================] - 0s 0us/step\n"
     ]
    }
   ],
   "source": [
    "effnet = EfficientNetB0(weights='imagenet',include_top=False,input_shape=(image_size,image_size,3))"
   ]
  },
  {
   "cell_type": "markdown",
   "metadata": {
    "id": "hBuI5XK-gaOU"
   },
   "source": [
    "**GlobalAveragePooling2D** -> This layer acts similar to the Max Pooling layer in CNNs, the only difference being is that it uses the Average values instead of the Max value while *pooling*. This really helps in decreasing the computational load on the machine while training.\n",
    "<br><br>\n",
    "**Dropout** -> This layer omits some of the neurons at each step from the layer making the neurons more independent from the neibouring neurons. It helps in avoiding overfitting. Neurons to be ommitted are selected at random. The **rate** parameter is the liklihood of a neuron activation being set to 0, thus dropping out the neuron\n",
    "\n",
    "**Dense** -> This is the output layer which classifies the image into 1 of the 4 possible classes. It uses the **softmax** function which is a generalization of the sigmoid function."
   ]
  },
  {
   "cell_type": "code",
   "execution_count": null,
   "metadata": {
    "id": "J0CdybZagaOU"
   },
   "outputs": [],
   "source": [
    "model = effnet.output\n",
    "model = tf.keras.layers.GlobalAveragePooling2D()(model)\n",
    "model = tf.keras.layers.Dropout(rate=0.5)(model)\n",
    "model = tf.keras.layers.Dense(4,activation='softmax')(model)\n",
    "model = tf.keras.models.Model(inputs=effnet.input, outputs = model)"
   ]
  },
  {
   "cell_type": "code",
   "execution_count": null,
   "metadata": {
    "colab": {
     "base_uri": "https://localhost:8080/"
    },
    "executionInfo": {
     "elapsed": 3187,
     "status": "ok",
     "timestamp": 1663578581502,
     "user": {
      "displayName": "121710309055 VADDI SNEHIT",
      "userId": "14598604518360618740"
     },
     "user_tz": -330
    },
    "id": "Ydp4ca8zgaOV",
    "outputId": "3c9acb75-9314-4383-8941-0cdf9074ab30",
    "scrolled": true
   },
   "outputs": [
    {
     "name": "stdout",
     "output_type": "stream",
     "text": [
      "Model: \"model\"\n",
      "__________________________________________________________________________________________________\n",
      " Layer (type)                   Output Shape         Param #     Connected to                     \n",
      "==================================================================================================\n",
      " input_1 (InputLayer)           [(None, 64, 64, 3)]  0           []                               \n",
      "                                                                                                  \n",
      " rescaling (Rescaling)          (None, 64, 64, 3)    0           ['input_1[0][0]']                \n",
      "                                                                                                  \n",
      " normalization (Normalization)  (None, 64, 64, 3)    7           ['rescaling[0][0]']              \n",
      "                                                                                                  \n",
      " stem_conv_pad (ZeroPadding2D)  (None, 65, 65, 3)    0           ['normalization[0][0]']          \n",
      "                                                                                                  \n",
      " stem_conv (Conv2D)             (None, 32, 32, 32)   864         ['stem_conv_pad[0][0]']          \n",
      "                                                                                                  \n",
      " stem_bn (BatchNormalization)   (None, 32, 32, 32)   128         ['stem_conv[0][0]']              \n",
      "                                                                                                  \n",
      " stem_activation (Activation)   (None, 32, 32, 32)   0           ['stem_bn[0][0]']                \n",
      "                                                                                                  \n",
      " block1a_dwconv (DepthwiseConv2  (None, 32, 32, 32)  288         ['stem_activation[0][0]']        \n",
      " D)                                                                                               \n",
      "                                                                                                  \n",
      " block1a_bn (BatchNormalization  (None, 32, 32, 32)  128         ['block1a_dwconv[0][0]']         \n",
      " )                                                                                                \n",
      "                                                                                                  \n",
      " block1a_activation (Activation  (None, 32, 32, 32)  0           ['block1a_bn[0][0]']             \n",
      " )                                                                                                \n",
      "                                                                                                  \n",
      " block1a_se_squeeze (GlobalAver  (None, 32)          0           ['block1a_activation[0][0]']     \n",
      " agePooling2D)                                                                                    \n",
      "                                                                                                  \n",
      " block1a_se_reshape (Reshape)   (None, 1, 1, 32)     0           ['block1a_se_squeeze[0][0]']     \n",
      "                                                                                                  \n",
      " block1a_se_reduce (Conv2D)     (None, 1, 1, 8)      264         ['block1a_se_reshape[0][0]']     \n",
      "                                                                                                  \n",
      " block1a_se_expand (Conv2D)     (None, 1, 1, 32)     288         ['block1a_se_reduce[0][0]']      \n",
      "                                                                                                  \n",
      " block1a_se_excite (Multiply)   (None, 32, 32, 32)   0           ['block1a_activation[0][0]',     \n",
      "                                                                  'block1a_se_expand[0][0]']      \n",
      "                                                                                                  \n",
      " block1a_project_conv (Conv2D)  (None, 32, 32, 16)   512         ['block1a_se_excite[0][0]']      \n",
      "                                                                                                  \n",
      " block1a_project_bn (BatchNorma  (None, 32, 32, 16)  64          ['block1a_project_conv[0][0]']   \n",
      " lization)                                                                                        \n",
      "                                                                                                  \n",
      " block2a_expand_conv (Conv2D)   (None, 32, 32, 96)   1536        ['block1a_project_bn[0][0]']     \n",
      "                                                                                                  \n",
      " block2a_expand_bn (BatchNormal  (None, 32, 32, 96)  384         ['block2a_expand_conv[0][0]']    \n",
      " ization)                                                                                         \n",
      "                                                                                                  \n",
      " block2a_expand_activation (Act  (None, 32, 32, 96)  0           ['block2a_expand_bn[0][0]']      \n",
      " ivation)                                                                                         \n",
      "                                                                                                  \n",
      " block2a_dwconv_pad (ZeroPaddin  (None, 33, 33, 96)  0           ['block2a_expand_activation[0][0]\n",
      " g2D)                                                            ']                               \n",
      "                                                                                                  \n",
      " block2a_dwconv (DepthwiseConv2  (None, 16, 16, 96)  864         ['block2a_dwconv_pad[0][0]']     \n",
      " D)                                                                                               \n",
      "                                                                                                  \n",
      " block2a_bn (BatchNormalization  (None, 16, 16, 96)  384         ['block2a_dwconv[0][0]']         \n",
      " )                                                                                                \n",
      "                                                                                                  \n",
      " block2a_activation (Activation  (None, 16, 16, 96)  0           ['block2a_bn[0][0]']             \n",
      " )                                                                                                \n",
      "                                                                                                  \n",
      " block2a_se_squeeze (GlobalAver  (None, 96)          0           ['block2a_activation[0][0]']     \n",
      " agePooling2D)                                                                                    \n",
      "                                                                                                  \n",
      " block2a_se_reshape (Reshape)   (None, 1, 1, 96)     0           ['block2a_se_squeeze[0][0]']     \n",
      "                                                                                                  \n",
      " block2a_se_reduce (Conv2D)     (None, 1, 1, 4)      388         ['block2a_se_reshape[0][0]']     \n",
      "                                                                                                  \n",
      " block2a_se_expand (Conv2D)     (None, 1, 1, 96)     480         ['block2a_se_reduce[0][0]']      \n",
      "                                                                                                  \n",
      " block2a_se_excite (Multiply)   (None, 16, 16, 96)   0           ['block2a_activation[0][0]',     \n",
      "                                                                  'block2a_se_expand[0][0]']      \n",
      "                                                                                                  \n",
      " block2a_project_conv (Conv2D)  (None, 16, 16, 24)   2304        ['block2a_se_excite[0][0]']      \n",
      "                                                                                                  \n",
      " block2a_project_bn (BatchNorma  (None, 16, 16, 24)  96          ['block2a_project_conv[0][0]']   \n",
      " lization)                                                                                        \n",
      "                                                                                                  \n",
      " block2b_expand_conv (Conv2D)   (None, 16, 16, 144)  3456        ['block2a_project_bn[0][0]']     \n",
      "                                                                                                  \n",
      " block2b_expand_bn (BatchNormal  (None, 16, 16, 144)  576        ['block2b_expand_conv[0][0]']    \n",
      " ization)                                                                                         \n",
      "                                                                                                  \n",
      " block2b_expand_activation (Act  (None, 16, 16, 144)  0          ['block2b_expand_bn[0][0]']      \n",
      " ivation)                                                                                         \n",
      "                                                                                                  \n",
      " block2b_dwconv (DepthwiseConv2  (None, 16, 16, 144)  1296       ['block2b_expand_activation[0][0]\n",
      " D)                                                              ']                               \n",
      "                                                                                                  \n",
      " block2b_bn (BatchNormalization  (None, 16, 16, 144)  576        ['block2b_dwconv[0][0]']         \n",
      " )                                                                                                \n",
      "                                                                                                  \n",
      " block2b_activation (Activation  (None, 16, 16, 144)  0          ['block2b_bn[0][0]']             \n",
      " )                                                                                                \n",
      "                                                                                                  \n",
      " block2b_se_squeeze (GlobalAver  (None, 144)         0           ['block2b_activation[0][0]']     \n",
      " agePooling2D)                                                                                    \n",
      "                                                                                                  \n",
      " block2b_se_reshape (Reshape)   (None, 1, 1, 144)    0           ['block2b_se_squeeze[0][0]']     \n",
      "                                                                                                  \n",
      " block2b_se_reduce (Conv2D)     (None, 1, 1, 6)      870         ['block2b_se_reshape[0][0]']     \n",
      "                                                                                                  \n",
      " block2b_se_expand (Conv2D)     (None, 1, 1, 144)    1008        ['block2b_se_reduce[0][0]']      \n",
      "                                                                                                  \n",
      " block2b_se_excite (Multiply)   (None, 16, 16, 144)  0           ['block2b_activation[0][0]',     \n",
      "                                                                  'block2b_se_expand[0][0]']      \n",
      "                                                                                                  \n",
      " block2b_project_conv (Conv2D)  (None, 16, 16, 24)   3456        ['block2b_se_excite[0][0]']      \n",
      "                                                                                                  \n",
      " block2b_project_bn (BatchNorma  (None, 16, 16, 24)  96          ['block2b_project_conv[0][0]']   \n",
      " lization)                                                                                        \n",
      "                                                                                                  \n",
      " block2b_drop (Dropout)         (None, 16, 16, 24)   0           ['block2b_project_bn[0][0]']     \n",
      "                                                                                                  \n",
      " block2b_add (Add)              (None, 16, 16, 24)   0           ['block2b_drop[0][0]',           \n",
      "                                                                  'block2a_project_bn[0][0]']     \n",
      "                                                                                                  \n",
      " block3a_expand_conv (Conv2D)   (None, 16, 16, 144)  3456        ['block2b_add[0][0]']            \n",
      "                                                                                                  \n",
      " block3a_expand_bn (BatchNormal  (None, 16, 16, 144)  576        ['block3a_expand_conv[0][0]']    \n",
      " ization)                                                                                         \n",
      "                                                                                                  \n",
      " block3a_expand_activation (Act  (None, 16, 16, 144)  0          ['block3a_expand_bn[0][0]']      \n",
      " ivation)                                                                                         \n",
      "                                                                                                  \n",
      " block3a_dwconv_pad (ZeroPaddin  (None, 19, 19, 144)  0          ['block3a_expand_activation[0][0]\n",
      " g2D)                                                            ']                               \n",
      "                                                                                                  \n",
      " block3a_dwconv (DepthwiseConv2  (None, 8, 8, 144)   3600        ['block3a_dwconv_pad[0][0]']     \n",
      " D)                                                                                               \n",
      "                                                                                                  \n",
      " block3a_bn (BatchNormalization  (None, 8, 8, 144)   576         ['block3a_dwconv[0][0]']         \n",
      " )                                                                                                \n",
      "                                                                                                  \n",
      " block3a_activation (Activation  (None, 8, 8, 144)   0           ['block3a_bn[0][0]']             \n",
      " )                                                                                                \n",
      "                                                                                                  \n",
      " block3a_se_squeeze (GlobalAver  (None, 144)         0           ['block3a_activation[0][0]']     \n",
      " agePooling2D)                                                                                    \n",
      "                                                                                                  \n",
      " block3a_se_reshape (Reshape)   (None, 1, 1, 144)    0           ['block3a_se_squeeze[0][0]']     \n",
      "                                                                                                  \n",
      " block3a_se_reduce (Conv2D)     (None, 1, 1, 6)      870         ['block3a_se_reshape[0][0]']     \n",
      "                                                                                                  \n",
      " block3a_se_expand (Conv2D)     (None, 1, 1, 144)    1008        ['block3a_se_reduce[0][0]']      \n",
      "                                                                                                  \n",
      " block3a_se_excite (Multiply)   (None, 8, 8, 144)    0           ['block3a_activation[0][0]',     \n",
      "                                                                  'block3a_se_expand[0][0]']      \n",
      "                                                                                                  \n",
      " block3a_project_conv (Conv2D)  (None, 8, 8, 40)     5760        ['block3a_se_excite[0][0]']      \n",
      "                                                                                                  \n",
      " block3a_project_bn (BatchNorma  (None, 8, 8, 40)    160         ['block3a_project_conv[0][0]']   \n",
      " lization)                                                                                        \n",
      "                                                                                                  \n",
      " block3b_expand_conv (Conv2D)   (None, 8, 8, 240)    9600        ['block3a_project_bn[0][0]']     \n",
      "                                                                                                  \n",
      " block3b_expand_bn (BatchNormal  (None, 8, 8, 240)   960         ['block3b_expand_conv[0][0]']    \n",
      " ization)                                                                                         \n",
      "                                                                                                  \n",
      " block3b_expand_activation (Act  (None, 8, 8, 240)   0           ['block3b_expand_bn[0][0]']      \n",
      " ivation)                                                                                         \n",
      "                                                                                                  \n",
      " block3b_dwconv (DepthwiseConv2  (None, 8, 8, 240)   6000        ['block3b_expand_activation[0][0]\n",
      " D)                                                              ']                               \n",
      "                                                                                                  \n",
      " block3b_bn (BatchNormalization  (None, 8, 8, 240)   960         ['block3b_dwconv[0][0]']         \n",
      " )                                                                                                \n",
      "                                                                                                  \n",
      " block3b_activation (Activation  (None, 8, 8, 240)   0           ['block3b_bn[0][0]']             \n",
      " )                                                                                                \n",
      "                                                                                                  \n",
      " block3b_se_squeeze (GlobalAver  (None, 240)         0           ['block3b_activation[0][0]']     \n",
      " agePooling2D)                                                                                    \n",
      "                                                                                                  \n",
      " block3b_se_reshape (Reshape)   (None, 1, 1, 240)    0           ['block3b_se_squeeze[0][0]']     \n",
      "                                                                                                  \n",
      " block3b_se_reduce (Conv2D)     (None, 1, 1, 10)     2410        ['block3b_se_reshape[0][0]']     \n",
      "                                                                                                  \n",
      " block3b_se_expand (Conv2D)     (None, 1, 1, 240)    2640        ['block3b_se_reduce[0][0]']      \n",
      "                                                                                                  \n",
      " block3b_se_excite (Multiply)   (None, 8, 8, 240)    0           ['block3b_activation[0][0]',     \n",
      "                                                                  'block3b_se_expand[0][0]']      \n",
      "                                                                                                  \n",
      " block3b_project_conv (Conv2D)  (None, 8, 8, 40)     9600        ['block3b_se_excite[0][0]']      \n",
      "                                                                                                  \n",
      " block3b_project_bn (BatchNorma  (None, 8, 8, 40)    160         ['block3b_project_conv[0][0]']   \n",
      " lization)                                                                                        \n",
      "                                                                                                  \n",
      " block3b_drop (Dropout)         (None, 8, 8, 40)     0           ['block3b_project_bn[0][0]']     \n",
      "                                                                                                  \n",
      " block3b_add (Add)              (None, 8, 8, 40)     0           ['block3b_drop[0][0]',           \n",
      "                                                                  'block3a_project_bn[0][0]']     \n",
      "                                                                                                  \n",
      " block4a_expand_conv (Conv2D)   (None, 8, 8, 240)    9600        ['block3b_add[0][0]']            \n",
      "                                                                                                  \n",
      " block4a_expand_bn (BatchNormal  (None, 8, 8, 240)   960         ['block4a_expand_conv[0][0]']    \n",
      " ization)                                                                                         \n",
      "                                                                                                  \n",
      " block4a_expand_activation (Act  (None, 8, 8, 240)   0           ['block4a_expand_bn[0][0]']      \n",
      " ivation)                                                                                         \n",
      "                                                                                                  \n",
      " block4a_dwconv_pad (ZeroPaddin  (None, 9, 9, 240)   0           ['block4a_expand_activation[0][0]\n",
      " g2D)                                                            ']                               \n",
      "                                                                                                  \n",
      " block4a_dwconv (DepthwiseConv2  (None, 4, 4, 240)   2160        ['block4a_dwconv_pad[0][0]']     \n",
      " D)                                                                                               \n",
      "                                                                                                  \n",
      " block4a_bn (BatchNormalization  (None, 4, 4, 240)   960         ['block4a_dwconv[0][0]']         \n",
      " )                                                                                                \n",
      "                                                                                                  \n",
      " block4a_activation (Activation  (None, 4, 4, 240)   0           ['block4a_bn[0][0]']             \n",
      " )                                                                                                \n",
      "                                                                                                  \n",
      " block4a_se_squeeze (GlobalAver  (None, 240)         0           ['block4a_activation[0][0]']     \n",
      " agePooling2D)                                                                                    \n",
      "                                                                                                  \n",
      " block4a_se_reshape (Reshape)   (None, 1, 1, 240)    0           ['block4a_se_squeeze[0][0]']     \n",
      "                                                                                                  \n",
      " block4a_se_reduce (Conv2D)     (None, 1, 1, 10)     2410        ['block4a_se_reshape[0][0]']     \n",
      "                                                                                                  \n",
      " block4a_se_expand (Conv2D)     (None, 1, 1, 240)    2640        ['block4a_se_reduce[0][0]']      \n",
      "                                                                                                  \n",
      " block4a_se_excite (Multiply)   (None, 4, 4, 240)    0           ['block4a_activation[0][0]',     \n",
      "                                                                  'block4a_se_expand[0][0]']      \n",
      "                                                                                                  \n",
      " block4a_project_conv (Conv2D)  (None, 4, 4, 80)     19200       ['block4a_se_excite[0][0]']      \n",
      "                                                                                                  \n",
      " block4a_project_bn (BatchNorma  (None, 4, 4, 80)    320         ['block4a_project_conv[0][0]']   \n",
      " lization)                                                                                        \n",
      "                                                                                                  \n",
      " block4b_expand_conv (Conv2D)   (None, 4, 4, 480)    38400       ['block4a_project_bn[0][0]']     \n",
      "                                                                                                  \n",
      " block4b_expand_bn (BatchNormal  (None, 4, 4, 480)   1920        ['block4b_expand_conv[0][0]']    \n",
      " ization)                                                                                         \n",
      "                                                                                                  \n",
      " block4b_expand_activation (Act  (None, 4, 4, 480)   0           ['block4b_expand_bn[0][0]']      \n",
      " ivation)                                                                                         \n",
      "                                                                                                  \n",
      " block4b_dwconv (DepthwiseConv2  (None, 4, 4, 480)   4320        ['block4b_expand_activation[0][0]\n",
      " D)                                                              ']                               \n",
      "                                                                                                  \n",
      " block4b_bn (BatchNormalization  (None, 4, 4, 480)   1920        ['block4b_dwconv[0][0]']         \n",
      " )                                                                                                \n",
      "                                                                                                  \n",
      " block4b_activation (Activation  (None, 4, 4, 480)   0           ['block4b_bn[0][0]']             \n",
      " )                                                                                                \n",
      "                                                                                                  \n",
      " block4b_se_squeeze (GlobalAver  (None, 480)         0           ['block4b_activation[0][0]']     \n",
      " agePooling2D)                                                                                    \n",
      "                                                                                                  \n",
      " block4b_se_reshape (Reshape)   (None, 1, 1, 480)    0           ['block4b_se_squeeze[0][0]']     \n",
      "                                                                                                  \n",
      " block4b_se_reduce (Conv2D)     (None, 1, 1, 20)     9620        ['block4b_se_reshape[0][0]']     \n",
      "                                                                                                  \n",
      " block4b_se_expand (Conv2D)     (None, 1, 1, 480)    10080       ['block4b_se_reduce[0][0]']      \n",
      "                                                                                                  \n",
      " block4b_se_excite (Multiply)   (None, 4, 4, 480)    0           ['block4b_activation[0][0]',     \n",
      "                                                                  'block4b_se_expand[0][0]']      \n",
      "                                                                                                  \n",
      " block4b_project_conv (Conv2D)  (None, 4, 4, 80)     38400       ['block4b_se_excite[0][0]']      \n",
      "                                                                                                  \n",
      " block4b_project_bn (BatchNorma  (None, 4, 4, 80)    320         ['block4b_project_conv[0][0]']   \n",
      " lization)                                                                                        \n",
      "                                                                                                  \n",
      " block4b_drop (Dropout)         (None, 4, 4, 80)     0           ['block4b_project_bn[0][0]']     \n",
      "                                                                                                  \n",
      " block4b_add (Add)              (None, 4, 4, 80)     0           ['block4b_drop[0][0]',           \n",
      "                                                                  'block4a_project_bn[0][0]']     \n",
      "                                                                                                  \n",
      " block4c_expand_conv (Conv2D)   (None, 4, 4, 480)    38400       ['block4b_add[0][0]']            \n",
      "                                                                                                  \n",
      " block4c_expand_bn (BatchNormal  (None, 4, 4, 480)   1920        ['block4c_expand_conv[0][0]']    \n",
      " ization)                                                                                         \n",
      "                                                                                                  \n",
      " block4c_expand_activation (Act  (None, 4, 4, 480)   0           ['block4c_expand_bn[0][0]']      \n",
      " ivation)                                                                                         \n",
      "                                                                                                  \n",
      " block4c_dwconv (DepthwiseConv2  (None, 4, 4, 480)   4320        ['block4c_expand_activation[0][0]\n",
      " D)                                                              ']                               \n",
      "                                                                                                  \n",
      " block4c_bn (BatchNormalization  (None, 4, 4, 480)   1920        ['block4c_dwconv[0][0]']         \n",
      " )                                                                                                \n",
      "                                                                                                  \n",
      " block4c_activation (Activation  (None, 4, 4, 480)   0           ['block4c_bn[0][0]']             \n",
      " )                                                                                                \n",
      "                                                                                                  \n",
      " block4c_se_squeeze (GlobalAver  (None, 480)         0           ['block4c_activation[0][0]']     \n",
      " agePooling2D)                                                                                    \n",
      "                                                                                                  \n",
      " block4c_se_reshape (Reshape)   (None, 1, 1, 480)    0           ['block4c_se_squeeze[0][0]']     \n",
      "                                                                                                  \n",
      " block4c_se_reduce (Conv2D)     (None, 1, 1, 20)     9620        ['block4c_se_reshape[0][0]']     \n",
      "                                                                                                  \n",
      " block4c_se_expand (Conv2D)     (None, 1, 1, 480)    10080       ['block4c_se_reduce[0][0]']      \n",
      "                                                                                                  \n",
      " block4c_se_excite (Multiply)   (None, 4, 4, 480)    0           ['block4c_activation[0][0]',     \n",
      "                                                                  'block4c_se_expand[0][0]']      \n",
      "                                                                                                  \n",
      " block4c_project_conv (Conv2D)  (None, 4, 4, 80)     38400       ['block4c_se_excite[0][0]']      \n",
      "                                                                                                  \n",
      " block4c_project_bn (BatchNorma  (None, 4, 4, 80)    320         ['block4c_project_conv[0][0]']   \n",
      " lization)                                                                                        \n",
      "                                                                                                  \n",
      " block4c_drop (Dropout)         (None, 4, 4, 80)     0           ['block4c_project_bn[0][0]']     \n",
      "                                                                                                  \n",
      " block4c_add (Add)              (None, 4, 4, 80)     0           ['block4c_drop[0][0]',           \n",
      "                                                                  'block4b_add[0][0]']            \n",
      "                                                                                                  \n",
      " block5a_expand_conv (Conv2D)   (None, 4, 4, 480)    38400       ['block4c_add[0][0]']            \n",
      "                                                                                                  \n",
      " block5a_expand_bn (BatchNormal  (None, 4, 4, 480)   1920        ['block5a_expand_conv[0][0]']    \n",
      " ization)                                                                                         \n",
      "                                                                                                  \n",
      " block5a_expand_activation (Act  (None, 4, 4, 480)   0           ['block5a_expand_bn[0][0]']      \n",
      " ivation)                                                                                         \n",
      "                                                                                                  \n",
      " block5a_dwconv (DepthwiseConv2  (None, 4, 4, 480)   12000       ['block5a_expand_activation[0][0]\n",
      " D)                                                              ']                               \n",
      "                                                                                                  \n",
      " block5a_bn (BatchNormalization  (None, 4, 4, 480)   1920        ['block5a_dwconv[0][0]']         \n",
      " )                                                                                                \n",
      "                                                                                                  \n",
      " block5a_activation (Activation  (None, 4, 4, 480)   0           ['block5a_bn[0][0]']             \n",
      " )                                                                                                \n",
      "                                                                                                  \n",
      " block5a_se_squeeze (GlobalAver  (None, 480)         0           ['block5a_activation[0][0]']     \n",
      " agePooling2D)                                                                                    \n",
      "                                                                                                  \n",
      " block5a_se_reshape (Reshape)   (None, 1, 1, 480)    0           ['block5a_se_squeeze[0][0]']     \n",
      "                                                                                                  \n",
      " block5a_se_reduce (Conv2D)     (None, 1, 1, 20)     9620        ['block5a_se_reshape[0][0]']     \n",
      "                                                                                                  \n",
      " block5a_se_expand (Conv2D)     (None, 1, 1, 480)    10080       ['block5a_se_reduce[0][0]']      \n",
      "                                                                                                  \n",
      " block5a_se_excite (Multiply)   (None, 4, 4, 480)    0           ['block5a_activation[0][0]',     \n",
      "                                                                  'block5a_se_expand[0][0]']      \n",
      "                                                                                                  \n",
      " block5a_project_conv (Conv2D)  (None, 4, 4, 112)    53760       ['block5a_se_excite[0][0]']      \n",
      "                                                                                                  \n",
      " block5a_project_bn (BatchNorma  (None, 4, 4, 112)   448         ['block5a_project_conv[0][0]']   \n",
      " lization)                                                                                        \n",
      "                                                                                                  \n",
      " block5b_expand_conv (Conv2D)   (None, 4, 4, 672)    75264       ['block5a_project_bn[0][0]']     \n",
      "                                                                                                  \n",
      " block5b_expand_bn (BatchNormal  (None, 4, 4, 672)   2688        ['block5b_expand_conv[0][0]']    \n",
      " ization)                                                                                         \n",
      "                                                                                                  \n",
      " block5b_expand_activation (Act  (None, 4, 4, 672)   0           ['block5b_expand_bn[0][0]']      \n",
      " ivation)                                                                                         \n",
      "                                                                                                  \n",
      " block5b_dwconv (DepthwiseConv2  (None, 4, 4, 672)   16800       ['block5b_expand_activation[0][0]\n",
      " D)                                                              ']                               \n",
      "                                                                                                  \n",
      " block5b_bn (BatchNormalization  (None, 4, 4, 672)   2688        ['block5b_dwconv[0][0]']         \n",
      " )                                                                                                \n",
      "                                                                                                  \n",
      " block5b_activation (Activation  (None, 4, 4, 672)   0           ['block5b_bn[0][0]']             \n",
      " )                                                                                                \n",
      "                                                                                                  \n",
      " block5b_se_squeeze (GlobalAver  (None, 672)         0           ['block5b_activation[0][0]']     \n",
      " agePooling2D)                                                                                    \n",
      "                                                                                                  \n",
      " block5b_se_reshape (Reshape)   (None, 1, 1, 672)    0           ['block5b_se_squeeze[0][0]']     \n",
      "                                                                                                  \n",
      " block5b_se_reduce (Conv2D)     (None, 1, 1, 28)     18844       ['block5b_se_reshape[0][0]']     \n",
      "                                                                                                  \n",
      " block5b_se_expand (Conv2D)     (None, 1, 1, 672)    19488       ['block5b_se_reduce[0][0]']      \n",
      "                                                                                                  \n",
      " block5b_se_excite (Multiply)   (None, 4, 4, 672)    0           ['block5b_activation[0][0]',     \n",
      "                                                                  'block5b_se_expand[0][0]']      \n",
      "                                                                                                  \n",
      " block5b_project_conv (Conv2D)  (None, 4, 4, 112)    75264       ['block5b_se_excite[0][0]']      \n",
      "                                                                                                  \n",
      " block5b_project_bn (BatchNorma  (None, 4, 4, 112)   448         ['block5b_project_conv[0][0]']   \n",
      " lization)                                                                                        \n",
      "                                                                                                  \n",
      " block5b_drop (Dropout)         (None, 4, 4, 112)    0           ['block5b_project_bn[0][0]']     \n",
      "                                                                                                  \n",
      " block5b_add (Add)              (None, 4, 4, 112)    0           ['block5b_drop[0][0]',           \n",
      "                                                                  'block5a_project_bn[0][0]']     \n",
      "                                                                                                  \n",
      " block5c_expand_conv (Conv2D)   (None, 4, 4, 672)    75264       ['block5b_add[0][0]']            \n",
      "                                                                                                  \n",
      " block5c_expand_bn (BatchNormal  (None, 4, 4, 672)   2688        ['block5c_expand_conv[0][0]']    \n",
      " ization)                                                                                         \n",
      "                                                                                                  \n",
      " block5c_expand_activation (Act  (None, 4, 4, 672)   0           ['block5c_expand_bn[0][0]']      \n",
      " ivation)                                                                                         \n",
      "                                                                                                  \n",
      " block5c_dwconv (DepthwiseConv2  (None, 4, 4, 672)   16800       ['block5c_expand_activation[0][0]\n",
      " D)                                                              ']                               \n",
      "                                                                                                  \n",
      " block5c_bn (BatchNormalization  (None, 4, 4, 672)   2688        ['block5c_dwconv[0][0]']         \n",
      " )                                                                                                \n",
      "                                                                                                  \n",
      " block5c_activation (Activation  (None, 4, 4, 672)   0           ['block5c_bn[0][0]']             \n",
      " )                                                                                                \n",
      "                                                                                                  \n",
      " block5c_se_squeeze (GlobalAver  (None, 672)         0           ['block5c_activation[0][0]']     \n",
      " agePooling2D)                                                                                    \n",
      "                                                                                                  \n",
      " block5c_se_reshape (Reshape)   (None, 1, 1, 672)    0           ['block5c_se_squeeze[0][0]']     \n",
      "                                                                                                  \n",
      " block5c_se_reduce (Conv2D)     (None, 1, 1, 28)     18844       ['block5c_se_reshape[0][0]']     \n",
      "                                                                                                  \n",
      " block5c_se_expand (Conv2D)     (None, 1, 1, 672)    19488       ['block5c_se_reduce[0][0]']      \n",
      "                                                                                                  \n",
      " block5c_se_excite (Multiply)   (None, 4, 4, 672)    0           ['block5c_activation[0][0]',     \n",
      "                                                                  'block5c_se_expand[0][0]']      \n",
      "                                                                                                  \n",
      " block5c_project_conv (Conv2D)  (None, 4, 4, 112)    75264       ['block5c_se_excite[0][0]']      \n",
      "                                                                                                  \n",
      " block5c_project_bn (BatchNorma  (None, 4, 4, 112)   448         ['block5c_project_conv[0][0]']   \n",
      " lization)                                                                                        \n",
      "                                                                                                  \n",
      " block5c_drop (Dropout)         (None, 4, 4, 112)    0           ['block5c_project_bn[0][0]']     \n",
      "                                                                                                  \n",
      " block5c_add (Add)              (None, 4, 4, 112)    0           ['block5c_drop[0][0]',           \n",
      "                                                                  'block5b_add[0][0]']            \n",
      "                                                                                                  \n",
      " block6a_expand_conv (Conv2D)   (None, 4, 4, 672)    75264       ['block5c_add[0][0]']            \n",
      "                                                                                                  \n",
      " block6a_expand_bn (BatchNormal  (None, 4, 4, 672)   2688        ['block6a_expand_conv[0][0]']    \n",
      " ization)                                                                                         \n",
      "                                                                                                  \n",
      " block6a_expand_activation (Act  (None, 4, 4, 672)   0           ['block6a_expand_bn[0][0]']      \n",
      " ivation)                                                                                         \n",
      "                                                                                                  \n",
      " block6a_dwconv_pad (ZeroPaddin  (None, 7, 7, 672)   0           ['block6a_expand_activation[0][0]\n",
      " g2D)                                                            ']                               \n",
      "                                                                                                  \n",
      " block6a_dwconv (DepthwiseConv2  (None, 2, 2, 672)   16800       ['block6a_dwconv_pad[0][0]']     \n",
      " D)                                                                                               \n",
      "                                                                                                  \n",
      " block6a_bn (BatchNormalization  (None, 2, 2, 672)   2688        ['block6a_dwconv[0][0]']         \n",
      " )                                                                                                \n",
      "                                                                                                  \n",
      " block6a_activation (Activation  (None, 2, 2, 672)   0           ['block6a_bn[0][0]']             \n",
      " )                                                                                                \n",
      "                                                                                                  \n",
      " block6a_se_squeeze (GlobalAver  (None, 672)         0           ['block6a_activation[0][0]']     \n",
      " agePooling2D)                                                                                    \n",
      "                                                                                                  \n",
      " block6a_se_reshape (Reshape)   (None, 1, 1, 672)    0           ['block6a_se_squeeze[0][0]']     \n",
      "                                                                                                  \n",
      " block6a_se_reduce (Conv2D)     (None, 1, 1, 28)     18844       ['block6a_se_reshape[0][0]']     \n",
      "                                                                                                  \n",
      " block6a_se_expand (Conv2D)     (None, 1, 1, 672)    19488       ['block6a_se_reduce[0][0]']      \n",
      "                                                                                                  \n",
      " block6a_se_excite (Multiply)   (None, 2, 2, 672)    0           ['block6a_activation[0][0]',     \n",
      "                                                                  'block6a_se_expand[0][0]']      \n",
      "                                                                                                  \n",
      " block6a_project_conv (Conv2D)  (None, 2, 2, 192)    129024      ['block6a_se_excite[0][0]']      \n",
      "                                                                                                  \n",
      " block6a_project_bn (BatchNorma  (None, 2, 2, 192)   768         ['block6a_project_conv[0][0]']   \n",
      " lization)                                                                                        \n",
      "                                                                                                  \n",
      " block6b_expand_conv (Conv2D)   (None, 2, 2, 1152)   221184      ['block6a_project_bn[0][0]']     \n",
      "                                                                                                  \n",
      " block6b_expand_bn (BatchNormal  (None, 2, 2, 1152)  4608        ['block6b_expand_conv[0][0]']    \n",
      " ization)                                                                                         \n",
      "                                                                                                  \n",
      " block6b_expand_activation (Act  (None, 2, 2, 1152)  0           ['block6b_expand_bn[0][0]']      \n",
      " ivation)                                                                                         \n",
      "                                                                                                  \n",
      " block6b_dwconv (DepthwiseConv2  (None, 2, 2, 1152)  28800       ['block6b_expand_activation[0][0]\n",
      " D)                                                              ']                               \n",
      "                                                                                                  \n",
      " block6b_bn (BatchNormalization  (None, 2, 2, 1152)  4608        ['block6b_dwconv[0][0]']         \n",
      " )                                                                                                \n",
      "                                                                                                  \n",
      " block6b_activation (Activation  (None, 2, 2, 1152)  0           ['block6b_bn[0][0]']             \n",
      " )                                                                                                \n",
      "                                                                                                  \n",
      " block6b_se_squeeze (GlobalAver  (None, 1152)        0           ['block6b_activation[0][0]']     \n",
      " agePooling2D)                                                                                    \n",
      "                                                                                                  \n",
      " block6b_se_reshape (Reshape)   (None, 1, 1, 1152)   0           ['block6b_se_squeeze[0][0]']     \n",
      "                                                                                                  \n",
      " block6b_se_reduce (Conv2D)     (None, 1, 1, 48)     55344       ['block6b_se_reshape[0][0]']     \n",
      "                                                                                                  \n",
      " block6b_se_expand (Conv2D)     (None, 1, 1, 1152)   56448       ['block6b_se_reduce[0][0]']      \n",
      "                                                                                                  \n",
      " block6b_se_excite (Multiply)   (None, 2, 2, 1152)   0           ['block6b_activation[0][0]',     \n",
      "                                                                  'block6b_se_expand[0][0]']      \n",
      "                                                                                                  \n",
      " block6b_project_conv (Conv2D)  (None, 2, 2, 192)    221184      ['block6b_se_excite[0][0]']      \n",
      "                                                                                                  \n",
      " block6b_project_bn (BatchNorma  (None, 2, 2, 192)   768         ['block6b_project_conv[0][0]']   \n",
      " lization)                                                                                        \n",
      "                                                                                                  \n",
      " block6b_drop (Dropout)         (None, 2, 2, 192)    0           ['block6b_project_bn[0][0]']     \n",
      "                                                                                                  \n",
      " block6b_add (Add)              (None, 2, 2, 192)    0           ['block6b_drop[0][0]',           \n",
      "                                                                  'block6a_project_bn[0][0]']     \n",
      "                                                                                                  \n",
      " block6c_expand_conv (Conv2D)   (None, 2, 2, 1152)   221184      ['block6b_add[0][0]']            \n",
      "                                                                                                  \n",
      " block6c_expand_bn (BatchNormal  (None, 2, 2, 1152)  4608        ['block6c_expand_conv[0][0]']    \n",
      " ization)                                                                                         \n",
      "                                                                                                  \n",
      " block6c_expand_activation (Act  (None, 2, 2, 1152)  0           ['block6c_expand_bn[0][0]']      \n",
      " ivation)                                                                                         \n",
      "                                                                                                  \n",
      " block6c_dwconv (DepthwiseConv2  (None, 2, 2, 1152)  28800       ['block6c_expand_activation[0][0]\n",
      " D)                                                              ']                               \n",
      "                                                                                                  \n",
      " block6c_bn (BatchNormalization  (None, 2, 2, 1152)  4608        ['block6c_dwconv[0][0]']         \n",
      " )                                                                                                \n",
      "                                                                                                  \n",
      " block6c_activation (Activation  (None, 2, 2, 1152)  0           ['block6c_bn[0][0]']             \n",
      " )                                                                                                \n",
      "                                                                                                  \n",
      " block6c_se_squeeze (GlobalAver  (None, 1152)        0           ['block6c_activation[0][0]']     \n",
      " agePooling2D)                                                                                    \n",
      "                                                                                                  \n",
      " block6c_se_reshape (Reshape)   (None, 1, 1, 1152)   0           ['block6c_se_squeeze[0][0]']     \n",
      "                                                                                                  \n",
      " block6c_se_reduce (Conv2D)     (None, 1, 1, 48)     55344       ['block6c_se_reshape[0][0]']     \n",
      "                                                                                                  \n",
      " block6c_se_expand (Conv2D)     (None, 1, 1, 1152)   56448       ['block6c_se_reduce[0][0]']      \n",
      "                                                                                                  \n",
      " block6c_se_excite (Multiply)   (None, 2, 2, 1152)   0           ['block6c_activation[0][0]',     \n",
      "                                                                  'block6c_se_expand[0][0]']      \n",
      "                                                                                                  \n",
      " block6c_project_conv (Conv2D)  (None, 2, 2, 192)    221184      ['block6c_se_excite[0][0]']      \n",
      "                                                                                                  \n",
      " block6c_project_bn (BatchNorma  (None, 2, 2, 192)   768         ['block6c_project_conv[0][0]']   \n",
      " lization)                                                                                        \n",
      "                                                                                                  \n",
      " block6c_drop (Dropout)         (None, 2, 2, 192)    0           ['block6c_project_bn[0][0]']     \n",
      "                                                                                                  \n",
      " block6c_add (Add)              (None, 2, 2, 192)    0           ['block6c_drop[0][0]',           \n",
      "                                                                  'block6b_add[0][0]']            \n",
      "                                                                                                  \n",
      " block6d_expand_conv (Conv2D)   (None, 2, 2, 1152)   221184      ['block6c_add[0][0]']            \n",
      "                                                                                                  \n",
      " block6d_expand_bn (BatchNormal  (None, 2, 2, 1152)  4608        ['block6d_expand_conv[0][0]']    \n",
      " ization)                                                                                         \n",
      "                                                                                                  \n",
      " block6d_expand_activation (Act  (None, 2, 2, 1152)  0           ['block6d_expand_bn[0][0]']      \n",
      " ivation)                                                                                         \n",
      "                                                                                                  \n",
      " block6d_dwconv (DepthwiseConv2  (None, 2, 2, 1152)  28800       ['block6d_expand_activation[0][0]\n",
      " D)                                                              ']                               \n",
      "                                                                                                  \n",
      " block6d_bn (BatchNormalization  (None, 2, 2, 1152)  4608        ['block6d_dwconv[0][0]']         \n",
      " )                                                                                                \n",
      "                                                                                                  \n",
      " block6d_activation (Activation  (None, 2, 2, 1152)  0           ['block6d_bn[0][0]']             \n",
      " )                                                                                                \n",
      "                                                                                                  \n",
      " block6d_se_squeeze (GlobalAver  (None, 1152)        0           ['block6d_activation[0][0]']     \n",
      " agePooling2D)                                                                                    \n",
      "                                                                                                  \n",
      " block6d_se_reshape (Reshape)   (None, 1, 1, 1152)   0           ['block6d_se_squeeze[0][0]']     \n",
      "                                                                                                  \n",
      " block6d_se_reduce (Conv2D)     (None, 1, 1, 48)     55344       ['block6d_se_reshape[0][0]']     \n",
      "                                                                                                  \n",
      " block6d_se_expand (Conv2D)     (None, 1, 1, 1152)   56448       ['block6d_se_reduce[0][0]']      \n",
      "                                                                                                  \n",
      " block6d_se_excite (Multiply)   (None, 2, 2, 1152)   0           ['block6d_activation[0][0]',     \n",
      "                                                                  'block6d_se_expand[0][0]']      \n",
      "                                                                                                  \n",
      " block6d_project_conv (Conv2D)  (None, 2, 2, 192)    221184      ['block6d_se_excite[0][0]']      \n",
      "                                                                                                  \n",
      " block6d_project_bn (BatchNorma  (None, 2, 2, 192)   768         ['block6d_project_conv[0][0]']   \n",
      " lization)                                                                                        \n",
      "                                                                                                  \n",
      " block6d_drop (Dropout)         (None, 2, 2, 192)    0           ['block6d_project_bn[0][0]']     \n",
      "                                                                                                  \n",
      " block6d_add (Add)              (None, 2, 2, 192)    0           ['block6d_drop[0][0]',           \n",
      "                                                                  'block6c_add[0][0]']            \n",
      "                                                                                                  \n",
      " block7a_expand_conv (Conv2D)   (None, 2, 2, 1152)   221184      ['block6d_add[0][0]']            \n",
      "                                                                                                  \n",
      " block7a_expand_bn (BatchNormal  (None, 2, 2, 1152)  4608        ['block7a_expand_conv[0][0]']    \n",
      " ization)                                                                                         \n",
      "                                                                                                  \n",
      " block7a_expand_activation (Act  (None, 2, 2, 1152)  0           ['block7a_expand_bn[0][0]']      \n",
      " ivation)                                                                                         \n",
      "                                                                                                  \n",
      " block7a_dwconv (DepthwiseConv2  (None, 2, 2, 1152)  10368       ['block7a_expand_activation[0][0]\n",
      " D)                                                              ']                               \n",
      "                                                                                                  \n",
      " block7a_bn (BatchNormalization  (None, 2, 2, 1152)  4608        ['block7a_dwconv[0][0]']         \n",
      " )                                                                                                \n",
      "                                                                                                  \n",
      " block7a_activation (Activation  (None, 2, 2, 1152)  0           ['block7a_bn[0][0]']             \n",
      " )                                                                                                \n",
      "                                                                                                  \n",
      " block7a_se_squeeze (GlobalAver  (None, 1152)        0           ['block7a_activation[0][0]']     \n",
      " agePooling2D)                                                                                    \n",
      "                                                                                                  \n",
      " block7a_se_reshape (Reshape)   (None, 1, 1, 1152)   0           ['block7a_se_squeeze[0][0]']     \n",
      "                                                                                                  \n",
      " block7a_se_reduce (Conv2D)     (None, 1, 1, 48)     55344       ['block7a_se_reshape[0][0]']     \n",
      "                                                                                                  \n",
      " block7a_se_expand (Conv2D)     (None, 1, 1, 1152)   56448       ['block7a_se_reduce[0][0]']      \n",
      "                                                                                                  \n",
      " block7a_se_excite (Multiply)   (None, 2, 2, 1152)   0           ['block7a_activation[0][0]',     \n",
      "                                                                  'block7a_se_expand[0][0]']      \n",
      "                                                                                                  \n",
      " block7a_project_conv (Conv2D)  (None, 2, 2, 320)    368640      ['block7a_se_excite[0][0]']      \n",
      "                                                                                                  \n",
      " block7a_project_bn (BatchNorma  (None, 2, 2, 320)   1280        ['block7a_project_conv[0][0]']   \n",
      " lization)                                                                                        \n",
      "                                                                                                  \n",
      " top_conv (Conv2D)              (None, 2, 2, 1280)   409600      ['block7a_project_bn[0][0]']     \n",
      "                                                                                                  \n",
      " top_bn (BatchNormalization)    (None, 2, 2, 1280)   5120        ['top_conv[0][0]']               \n",
      "                                                                                                  \n",
      " top_activation (Activation)    (None, 2, 2, 1280)   0           ['top_bn[0][0]']                 \n",
      "                                                                                                  \n",
      " global_average_pooling2d (Glob  (None, 1280)        0           ['top_activation[0][0]']         \n",
      " alAveragePooling2D)                                                                              \n",
      "                                                                                                  \n",
      " dropout_2 (Dropout)            (None, 1280)         0           ['global_average_pooling2d[0][0]'\n",
      "                                                                 ]                                \n",
      "                                                                                                  \n",
      " dense_2 (Dense)                (None, 4)            5124        ['dropout_2[0][0]']              \n",
      "                                                                                                  \n",
      "==================================================================================================\n",
      "Total params: 4,054,695\n",
      "Trainable params: 4,012,672\n",
      "Non-trainable params: 42,023\n",
      "__________________________________________________________________________________________________\n"
     ]
    }
   ],
   "source": [
    "model.summary()"
   ]
  },
  {
   "cell_type": "markdown",
   "metadata": {
    "id": "a-TrVm_jgaOV"
   },
   "source": [
    "We finally compile our model."
   ]
  },
  {
   "cell_type": "code",
   "execution_count": null,
   "metadata": {
    "id": "p7CV6b8cgaOV"
   },
   "outputs": [],
   "source": [
    "model.compile(loss='categorical_crossentropy',optimizer = 'Adam', metrics= ['accuracy'])"
   ]
  },
  {
   "cell_type": "markdown",
   "metadata": {
    "id": "GK7A_6kvgaOV"
   },
   "source": [
    "**Callbacks** -> Callbacks can help you fix bugs more quickly, and can help you build better models. They can help you visualize how your model’s training is going, and can even help prevent overfitting by implementing early stopping or customizing the learning rate on each iteration.<br><br>\n",
    "By definition, \"A callback is a set of functions to be applied at given stages of the training procedure. You can use callbacks to get a view on internal states and statistics of the model during training.\"\n",
    "\n",
    "In this notebook, I'll be using **TensorBoard, ModelCheckpoint and ReduceLROnPlateau** callback functions"
   ]
  },
  {
   "cell_type": "code",
   "execution_count": null,
   "metadata": {
    "id": "75WnDRubgaOW"
   },
   "outputs": [],
   "source": [
    "tensorboard = TensorBoard(log_dir = 'logs')\n",
    "checkpoint = ModelCheckpoint(\"EfficientNetD0-12.h5\",monitor=\"val_accuracy\",save_best_only=True,mode=\"auto\",verbose=1)\n",
    "reduce_lr = ReduceLROnPlateau(monitor = 'val_accuracy', factor = 0.3, patience = 2, min_delta = 0.001,\n",
    "                              mode='auto',verbose=1)"
   ]
  },
  {
   "cell_type": "code",
   "execution_count": null,
   "metadata": {
    "colab": {
     "base_uri": "https://localhost:8080/"
    },
    "executionInfo": {
     "elapsed": 33569,
     "status": "ok",
     "timestamp": 1663578744126,
     "user": {
      "displayName": "121710309055 VADDI SNEHIT",
      "userId": "14598604518360618740"
     },
     "user_tz": -330
    },
    "id": "SeE2XNhFgaOW",
    "outputId": "f2d1d4ae-156a-456f-b7fb-1a2a8e0f706c",
    "scrolled": true
   },
   "outputs": [
    {
     "name": "stdout",
     "output_type": "stream",
     "text": [
      "Epoch 1/12\n",
      "35/35 [==============================] - ETA: 0s - loss: 0.0507 - accuracy: 0.9872\n",
      "Epoch 1: val_accuracy improved from -inf to 0.88525, saving model to EfficientNetD0-12.h5\n",
      "35/35 [==============================] - 4s 116ms/step - loss: 0.0507 - accuracy: 0.9872 - val_loss: 0.3422 - val_accuracy: 0.8852 - lr: 9.0000e-05\n",
      "Epoch 2/12\n",
      "35/35 [==============================] - ETA: 0s - loss: 0.0632 - accuracy: 0.9854\n",
      "Epoch 2: val_accuracy improved from 0.88525 to 0.90164, saving model to EfficientNetD0-12.h5\n",
      "35/35 [==============================] - 4s 127ms/step - loss: 0.0632 - accuracy: 0.9854 - val_loss: 0.3297 - val_accuracy: 0.9016 - lr: 9.0000e-05\n",
      "Epoch 3/12\n",
      "35/35 [==============================] - ETA: 0s - loss: 0.0477 - accuracy: 0.9872\n",
      "Epoch 3: val_accuracy did not improve from 0.90164\n",
      "35/35 [==============================] - 3s 93ms/step - loss: 0.0477 - accuracy: 0.9872 - val_loss: 0.3441 - val_accuracy: 0.8770 - lr: 9.0000e-05\n",
      "Epoch 4/12\n",
      "35/35 [==============================] - ETA: 0s - loss: 0.0328 - accuracy: 0.9918\n",
      "Epoch 4: val_accuracy did not improve from 0.90164\n",
      "\n",
      "Epoch 4: ReduceLROnPlateau reducing learning rate to 2.700000040931627e-05.\n",
      "35/35 [==============================] - 3s 90ms/step - loss: 0.0328 - accuracy: 0.9918 - val_loss: 0.3062 - val_accuracy: 0.9016 - lr: 9.0000e-05\n",
      "Epoch 5/12\n",
      "35/35 [==============================] - ETA: 0s - loss: 0.0280 - accuracy: 0.9918\n",
      "Epoch 5: val_accuracy did not improve from 0.90164\n",
      "35/35 [==============================] - 3s 84ms/step - loss: 0.0280 - accuracy: 0.9918 - val_loss: 0.2922 - val_accuracy: 0.9016 - lr: 2.7000e-05\n",
      "Epoch 6/12\n",
      "35/35 [==============================] - ETA: 0s - loss: 0.0259 - accuracy: 0.9927\n",
      "Epoch 6: val_accuracy did not improve from 0.90164\n",
      "\n",
      "Epoch 6: ReduceLROnPlateau reducing learning rate to 8.100000013655517e-06.\n",
      "35/35 [==============================] - 3s 95ms/step - loss: 0.0259 - accuracy: 0.9927 - val_loss: 0.2997 - val_accuracy: 0.9016 - lr: 2.7000e-05\n",
      "Epoch 7/12\n",
      "34/35 [============================>.] - ETA: 0s - loss: 0.0312 - accuracy: 0.9890\n",
      "Epoch 7: val_accuracy improved from 0.90164 to 0.90984, saving model to EfficientNetD0-12.h5\n",
      "35/35 [==============================] - 4s 104ms/step - loss: 0.0315 - accuracy: 0.9890 - val_loss: 0.3311 - val_accuracy: 0.9098 - lr: 8.1000e-06\n",
      "Epoch 8/12\n",
      "35/35 [==============================] - ETA: 0s - loss: 0.0304 - accuracy: 0.9945\n",
      "Epoch 8: val_accuracy did not improve from 0.90984\n",
      "35/35 [==============================] - 2s 47ms/step - loss: 0.0304 - accuracy: 0.9945 - val_loss: 0.3568 - val_accuracy: 0.9098 - lr: 8.1000e-06\n",
      "Epoch 9/12\n",
      "35/35 [==============================] - ETA: 0s - loss: 0.0270 - accuracy: 0.9909\n",
      "Epoch 9: val_accuracy did not improve from 0.90984\n",
      "\n",
      "Epoch 9: ReduceLROnPlateau reducing learning rate to 2.429999949526973e-06.\n",
      "35/35 [==============================] - 2s 48ms/step - loss: 0.0270 - accuracy: 0.9909 - val_loss: 0.3626 - val_accuracy: 0.9098 - lr: 8.1000e-06\n",
      "Epoch 10/12\n",
      "35/35 [==============================] - ETA: 0s - loss: 0.0357 - accuracy: 0.9899\n",
      "Epoch 10: val_accuracy did not improve from 0.90984\n",
      "35/35 [==============================] - 2s 48ms/step - loss: 0.0357 - accuracy: 0.9899 - val_loss: 0.3571 - val_accuracy: 0.9098 - lr: 2.4300e-06\n",
      "Epoch 11/12\n",
      "34/35 [============================>.] - ETA: 0s - loss: 0.0296 - accuracy: 0.9899\n",
      "Epoch 11: val_accuracy did not improve from 0.90984\n",
      "\n",
      "Epoch 11: ReduceLROnPlateau reducing learning rate to 7.289999985005124e-07.\n",
      "35/35 [==============================] - 2s 47ms/step - loss: 0.0347 - accuracy: 0.9890 - val_loss: 0.3580 - val_accuracy: 0.9016 - lr: 2.4300e-06\n",
      "Epoch 12/12\n",
      "34/35 [============================>.] - ETA: 0s - loss: 0.0218 - accuracy: 0.9963\n",
      "Epoch 12: val_accuracy did not improve from 0.90984\n",
      "35/35 [==============================] - 2s 47ms/step - loss: 0.0220 - accuracy: 0.9963 - val_loss: 0.3537 - val_accuracy: 0.9016 - lr: 7.2900e-07\n"
     ]
    }
   ],
   "source": [
    "history = model.fit(X_train,y_train,validation_split=0.1, epochs =12, verbose=1, batch_size=32,\n",
    "                   callbacks=[tensorboard,checkpoint,reduce_lr])"
   ]
  },
  {
   "cell_type": "code",
   "execution_count": null,
   "metadata": {
    "colab": {
     "base_uri": "https://localhost:8080/",
     "height": 573
    },
    "executionInfo": {
     "elapsed": 1135,
     "status": "ok",
     "timestamp": 1663578755699,
     "user": {
      "displayName": "121710309055 VADDI SNEHIT",
      "userId": "14598604518360618740"
     },
     "user_tz": -330
    },
    "id": "qBwLZItRgaOW",
    "outputId": "90b9751c-e9ff-436a-f75a-1eb8d454bf3c"
   },
   "outputs": [
    {
     "data": {
      "image/png": "[encoded data removed]",
      "text/plain": [
       "<Figure size 432x288 with 1 Axes>"
      ]
     },
     "metadata": {},
     "output_type": "display_data"
    },
    {
     "data": {
      "image/png": "[encoded data removed]",
      "text/plain": [
       "<Figure size 432x288 with 1 Axes>"
      ]
     },
     "metadata": {},
     "output_type": "display_data"
    }
   ],
   "source": [
    "#Visualize Training\n",
    "def plot_graphs(history, string):\n",
    "    sns.set_style(\"whitegrid\")\n",
    "    plt.plot(history.history[string])\n",
    "    plt.plot(history.history[\"val_\"+string])\n",
    "    plt.xlabel(\"Epochs\")\n",
    "    plt.ylabel(string)\n",
    "    plt.title(\"Brain Tumor Model-15 Epochs\")\n",
    "    plt.legend([string,\"val_\"+string])\n",
    "    plt.show()\n",
    "plot_graphs(history,'accuracy')\n",
    "plot_graphs(history,'loss')"
   ]
  },
  {
   "cell_type": "markdown",
   "metadata": {
    "id": "-lv8P8QHMNG1"
   },
   "source": [
    "##### Prediction\n",
    "I've used the *argmax function* as each row from the prediction array contains four values for the respective labels. The **maximum** value which is in each row depicts the predicted output out of the 4 possible outcomes.<br>\n",
    "So with *argmax*, I'm able to find out the index associated with the predicted outcome."
   ]
  },
  {
   "cell_type": "code",
   "execution_count": null,
   "metadata": {
    "id": "MamPrt7gMNG1"
   },
   "outputs": [],
   "source": [
    "pred = model.predict(X_test)\n",
    "pred = np.argmax(pred,axis=1)\n",
    "y_test_new = np.argmax(y_test,axis=1)"
   ]
  },
  {
   "cell_type": "code",
   "execution_count": null,
   "metadata": {
    "colab": {
     "base_uri": "https://localhost:8080/"
    },
    "executionInfo": {
     "elapsed": 21,
     "status": "ok",
     "timestamp": 1663578784801,
     "user": {
      "displayName": "121710309055 VADDI SNEHIT",
      "userId": "14598604518360618740"
     },
     "user_tz": -330
    },
    "id": "p0iNTFFdMNG2",
    "outputId": "0f9e73cc-0588-485f-9789-bca56af6c92b"
   },
   "outputs": [
    {
     "data": {
      "text/plain": [
       "array([0, 0, 2, 1, 0, 0, 2, 3, 2, 2, 2, 3, 1, 3, 1, 0, 2, 0, 2, 2, 0, 3,\n",
       "       3, 0, 3, 3, 3, 3, 3, 0, 1, 1, 2, 3, 0, 2, 2, 3, 3, 1, 1, 0, 1, 3,\n",
       "       0, 1, 0, 0, 0, 3, 3, 2, 0, 2, 0, 3, 2, 3, 0, 3, 0, 3, 0, 2, 0, 3,\n",
       "       2, 0, 0, 2, 0, 2, 2, 2, 3, 2, 3, 2, 0, 1, 3, 0, 2, 2, 2, 0, 3, 0,\n",
       "       1, 2, 1, 0, 3, 0, 3, 1, 3, 0, 2, 2, 1, 1, 0, 1, 0, 2, 2, 3, 3, 2,\n",
       "       1, 2, 3, 0, 3, 2, 0, 3, 3, 3, 2, 1, 0, 1, 2, 3, 2, 3, 2, 0, 0, 1,\n",
       "       0, 2, 0])"
      ]
     },
     "execution_count": 65,
     "metadata": {},
     "output_type": "execute_result"
    }
   ],
   "source": [
    "pred"
   ]
  },
  {
   "cell_type": "markdown",
   "metadata": {
    "id": "eICyJVDKMNG2"
   },
   "source": [
    "---"
   ]
  },
  {
   "cell_type": "code",
   "execution_count": null,
   "metadata": {
    "colab": {
     "base_uri": "https://localhost:8080/"
    },
    "executionInfo": {
     "elapsed": 12,
     "status": "ok",
     "timestamp": 1663578787496,
     "user": {
      "displayName": "121710309055 VADDI SNEHIT",
      "userId": "14598604518360618740"
     },
     "user_tz": -330
    },
    "id": "lQvsJSKWMNG5",
    "outputId": "f8f48671-9c49-4d1d-82f5-e3ddf75036ca"
   },
   "outputs": [
    {
     "name": "stdout",
     "output_type": "stream",
     "text": [
      "              precision    recall  f1-score   support\n",
      "\n",
      "           0       0.88      0.83      0.85        42\n",
      "           1       0.75      0.65      0.70        23\n",
      "           2       0.92      0.92      0.92        38\n",
      "           3       0.86      1.00      0.93        32\n",
      "\n",
      "    accuracy                           0.87       135\n",
      "   macro avg       0.85      0.85      0.85       135\n",
      "weighted avg       0.86      0.87      0.86       135\n",
      "\n"
     ]
    }
   ],
   "source": [
    "print(classification_report(y_test_new,pred))"
   ]
  },
  {
   "cell_type": "code",
   "execution_count": null,
   "metadata": {
    "colab": {
     "base_uri": "https://localhost:8080/",
     "height": 459
    },
    "executionInfo": {
     "elapsed": 904,
     "status": "ok",
     "timestamp": 1663578791248,
     "user": {
      "displayName": "121710309055 VADDI SNEHIT",
      "userId": "14598604518360618740"
     },
     "user_tz": -330
    },
    "id": "lOYFtqFoMNG5",
    "outputId": "44a3c1fa-f94c-4151-fbc2-ee703910a884"
   },
   "outputs": [
    {
     "data": {
      "image/png": "[encoded data removed]",
      "text/plain": [
       "<Figure size 1008x504 with 2 Axes>"
      ]
     },
     "metadata": {},
     "output_type": "display_data"
    }
   ],
   "source": [
    "fig,ax=plt.subplots(1,1,figsize=(14,7))\n",
    "sns.heatmap(confusion_matrix(y_test_new,pred),ax=ax,xticklabels=labels,yticklabels=labels,annot=True)\n",
    "fig.text(s='Heatmap of the Confusion Matrix',size=12,y=0.92,x=0.28,alpha=0.8)\n",
    "\n",
    "plt.show()"
   ]
  },
  {
   "cell_type": "markdown",
   "metadata": {
    "id": "v9EoxYwPMNG6"
   },
   "source": [
    "---"
   ]
  },
  {
   "cell_type": "markdown",
   "metadata": {
    "id": "jxXlXkeZMNG6"
   },
   "source": [
    "# Bonus Content: Widgets"
   ]
  },
  {
   "cell_type": "markdown",
   "metadata": {
    "id": "ZkIICPdpMNG6"
   },
   "source": [
    "I've made these Widgets in which we can upload images from our local machine and predict whether the MRI scan has a Brain Tumour or not and to classify which Tumor it is.<br>\n",
    "Unfortunately, it doesn't work on Kaggle but you can play around with this by downloading the notebook on your machine :)"
   ]
  },
  {
   "cell_type": "code",
   "execution_count": null,
   "metadata": {
    "id": "ZuIe78RaMNG6"
   },
   "outputs": [],
   "source": [
    "def img_pred(upload):\n",
    "    for name, file_info in uploader.value.items():\n",
    "        img = Image.open(io.BytesIO(file_info['content']))\n",
    "    opencvImage = cv2.cvtColor(np.array(img), cv2.COLOR_RGB2BGR)\n",
    "    img = cv2.resize(opencvImage,(150,150))\n",
    "    img = img.reshape(1,150,150,3)\n",
    "    p = model.predict(img)\n",
    "    p = np.argmax(p,axis=1)[0]\n",
    "\n",
    "    if p==0:\n",
    "        p='Glioma Tumor'\n",
    "    elif p==1:\n",
    "        print('The model predicts that there is no tumor')\n",
    "    elif p==2:\n",
    "        p='Meningioma Tumor'\n",
    "    else:\n",
    "        p='Pituitary Tumor'\n",
    "\n",
    "    if p!=1:\n",
    "        print(f'The Model predicts that it is a {p}')"
   ]
  },
  {
   "cell_type": "markdown",
   "metadata": {
    "id": "cb4_7zlOMNG7"
   },
   "source": [
    "This is where you can upload the image by clicking on the **Upload** button:"
   ]
  },
  {
   "cell_type": "code",
   "execution_count": null,
   "metadata": {
    "colab": {
     "base_uri": "https://localhost:8080/",
     "height": 81,
     "referenced_widgets": [
      "bcd58fa1ede54bd39507d87bc367c5df",
      "39c3682876df486cbe4462edeb24f957",
      "d365ebded1dc4812aa1739f793f31992",
      "832b1baec1fe49d9a8818cc0da4d22c8",
      "96823d26b466495bb1575ce9a058ba9e",
      "bc9c27f821dc40be923047dc50e4c5ca",
      "6a2b0ff9686b498c8bb584bc3020c5cf",
      "da8d7c39187c4f248323695e9b48ede8",
      "9e3e1520033f48a18235ca514132484c",
      "11394ad6754340ac9e5687b1016b7915"
     ]
    },
    "executionInfo": {
     "elapsed": 719,
     "status": "ok",
     "timestamp": 1651078355210,
     "user": {
      "displayName": "snehit vaddi",
      "userId": "08382799049763233557"
     },
     "user_tz": -330
    },
    "id": "ZO8ZZT8QMNG7",
    "outputId": "8557f79b-e593-46a2-f704-7a04002092b9"
   },
   "outputs": [
    {
     "data": {
      "application/vnd.jupyter.widget-view+json": {
       "model_id": "bcd58fa1ede54bd39507d87bc367c5df",
       "version_major": 2,
       "version_minor": 0
      },
      "text/plain": [
       "FileUpload(value={}, description='Upload')"
      ]
     },
     "metadata": {},
     "output_type": "display_data"
    },
    {
     "data": {
      "application/vnd.jupyter.widget-view+json": {
       "model_id": "832b1baec1fe49d9a8818cc0da4d22c8",
       "version_major": 2,
       "version_minor": 0
      },
      "text/plain": [
       "VBox(children=(Button(description='Predict', style=ButtonStyle()), Output()))"
      ]
     },
     "metadata": {},
     "output_type": "display_data"
    }
   ],
   "source": [
    "from ipywidgets import widgets\n",
    "def on_button_clicked(_):\n",
    "    with out:\n",
    "        clear_output()\n",
    "        try:\n",
    "            img_pred(uploader)\n",
    "            \n",
    "        except:\n",
    "            print('No Image Uploaded/Invalid Image File')\n",
    "\n",
    "uploader = widgets.FileUpload()\n",
    "display(uploader)\n",
    "button = widgets.Button(description='Predict')\n",
    "out = widgets.Output()\n",
    "\n",
    "button.on_click(on_button_clicked)\n",
    "widgets.VBox([button,out])"
   ]
  },
  {
   "cell_type": "markdown",
   "metadata": {
    "id": "98XnTtAZMNG7"
   },
   "source": [
    "After uploading the image, you can click on the **Predict** button below to make predictions:"
   ]
  },
  {
   "cell_type": "code",
   "execution_count": null,
   "metadata": {
    "colab": {
     "base_uri": "https://localhost:8080/"
    },
    "executionInfo": {
     "elapsed": 627,
     "status": "ok",
     "timestamp": 1649671150259,
     "user": {
      "displayName": "snehit vaddi",
      "userId": "08382799049763233557"
     },
     "user_tz": -330
    },
    "id": "yKfYzBLQMNG8",
    "outputId": "dd89ca6b-ef12-45e8-b485-24d999583273"
   },
   "outputs": [
    {
     "name": "stdout",
     "output_type": "stream",
     "text": [
      "[jovian] Detected Colab notebook...\u001b[0m\n"
     ]
    },
    {
     "name": "stderr",
     "output_type": "stream",
     "text": [
      "\u001b[31m[jovian] Error: jovian.commit doesn't work on Colab unless the notebook was created and executed from Jovian.\n",
      "Make sure to run the first code cell at the top after executing from Jovian.\n",
      "Alternatively, you can download this notebook and upload it manually to Jovian.\n",
      "Learn more: https://jovian.ai/docs/user-guide/run.html#run-on-colab\u001b[0m\n"
     ]
    }
   ],
   "source": [
    "# !pip install jovian\n",
    "import jovian\n",
    "jovian.commit(environment=None)"
   ]
  },
  {
   "cell_type": "code",
   "execution_count": null,
   "metadata": {
    "id": "HoereIJ69tAF"
   },
   "outputs": [],
   "source": []
  }
 ],
 "metadata": {
  "accelerator": "GPU",
  "colab": {
   "collapsed_sections": [],
   "provenance": []
  },
  "kernelspec": {
   "display_name": "Python 3",
   "language": "python",
   "name": "python3"
  },
  "language_info": {
   "codemirror_mode": {
    "name": "ipython",
    "version": 3
   },
   "file_extension": ".py",
   "mimetype": "text/x-python",
   "name": "python",
   "nbconvert_exporter": "python",
   "pygments_lexer": "ipython3",
   "version": "3.7.10"
  },
  "widgets": {
   "application/vnd.jupyter.widget-state+json": {
    "11394ad6754340ac9e5687b1016b7915": {
     "model_module": "@jupyter-widgets/base",
     "model_module_version": "1.2.0",
     "model_name": "LayoutModel",
     "state": {
      "_model_module": "@jupyter-widgets/base",
      "_model_module_version": "1.2.0",
      "_model_name": "LayoutModel",
      "_view_count": null,
      "_view_module": "@jupyter-widgets/base",
      "_view_module_version": "1.2.0",
      "_view_name": "LayoutView",
      "align_content": null,
      "align_items": null,
      "align_self": null,
      "border": null,
      "bottom": null,
      "display": null,
      "flex": null,
      "flex_flow": null,
      "grid_area": null,
      "grid_auto_columns": null,
      "grid_auto_flow": null,
      "grid_auto_rows": null,
      "grid_column": null,
      "grid_gap": null,
      "grid_row": null,
      "grid_template_areas": null,
      "grid_template_columns": null,
      "grid_template_rows": null,
      "height": null,
      "justify_content": null,
      "justify_items": null,
      "left": null,
      "margin": null,
      "max_height": null,
      "max_width": null,
      "min_height": null,
      "min_width": null,
      "object_fit": null,
      "object_position": null,
      "order": null,
      "overflow": null,
      "overflow_x": null,
      "overflow_y": null,
      "padding": null,
      "right": null,
      "top": null,
      "visibility": null,
      "width": null
     }
    },
    "39c3682876df486cbe4462edeb24f957": {
     "model_module": "@jupyter-widgets/base",
     "model_module_version": "1.2.0",
     "model_name": "LayoutModel",
     "state": {
      "_model_module": "@jupyter-widgets/base",
      "_model_module_version": "1.2.0",
      "_model_name": "LayoutModel",
      "_view_count": null,
      "_view_module": "@jupyter-widgets/base",
      "_view_module_version": "1.2.0",
      "_view_name": "LayoutView",
      "align_content": null,
      "align_items": null,
      "align_self": null,
      "border": null,
      "bottom": null,
      "display": null,
      "flex": null,
      "flex_flow": null,
      "grid_area": null,
      "grid_auto_columns": null,
      "grid_auto_flow": null,
      "grid_auto_rows": null,
      "grid_column": null,
      "grid_gap": null,
      "grid_row": null,
      "grid_template_areas": null,
      "grid_template_columns": null,
      "grid_template_rows": null,
      "height": null,
      "justify_content": null,
      "justify_items": null,
      "left": null,
      "margin": null,
      "max_height": null,
      "max_width": null,
      "min_height": null,
      "min_width": null,
      "object_fit": null,
      "object_position": null,
      "order": null,
      "overflow": null,
      "overflow_x": null,
      "overflow_y": null,
      "padding": null,
      "right": null,
      "top": null,
      "visibility": null,
      "width": null
     }
    },
    "6a2b0ff9686b498c8bb584bc3020c5cf": {
     "model_module": "@jupyter-widgets/base",
     "model_module_version": "1.2.0",
     "model_name": "LayoutModel",
     "state": {
      "_model_module": "@jupyter-widgets/base",
      "_model_module_version": "1.2.0",
      "_model_name": "LayoutModel",
      "_view_count": null,
      "_view_module": "@jupyter-widgets/base",
      "_view_module_version": "1.2.0",
      "_view_name": "LayoutView",
      "align_content": null,
      "align_items": null,
      "align_self": null,
      "border": null,
      "bottom": null,
      "display": null,
      "flex": null,
      "flex_flow": null,
      "grid_area": null,
      "grid_auto_columns": null,
      "grid_auto_flow": null,
      "grid_auto_rows": null,
      "grid_column": null,
      "grid_gap": null,
      "grid_row": null,
      "grid_template_areas": null,
      "grid_template_columns": null,
      "grid_template_rows": null,
      "height": null,
      "justify_content": null,
      "justify_items": null,
      "left": null,
      "margin": null,
      "max_height": null,
      "max_width": null,
      "min_height": null,
      "min_width": null,
      "object_fit": null,
      "object_position": null,
      "order": null,
      "overflow": null,
      "overflow_x": null,
      "overflow_y": null,
      "padding": null,
      "right": null,
      "top": null,
      "visibility": null,
      "width": null
     }
    },
    "832b1baec1fe49d9a8818cc0da4d22c8": {
     "model_module": "@jupyter-widgets/controls",
     "model_module_version": "1.5.0",
     "model_name": "VBoxModel",
     "state": {
      "_dom_classes": [],
      "_model_module": "@jupyter-widgets/controls",
      "_model_module_version": "1.5.0",
      "_model_name": "VBoxModel",
      "_view_count": null,
      "_view_module": "@jupyter-widgets/controls",
      "_view_module_version": "1.5.0",
      "_view_name": "VBoxView",
      "box_style": "",
      "children": [
       "IPY_MODEL_96823d26b466495bb1575ce9a058ba9e",
       "IPY_MODEL_bc9c27f821dc40be923047dc50e4c5ca"
      ],
      "layout": "IPY_MODEL_6a2b0ff9686b498c8bb584bc3020c5cf"
     }
    },
    "96823d26b466495bb1575ce9a058ba9e": {
     "model_module": "@jupyter-widgets/controls",
     "model_module_version": "1.5.0",
     "model_name": "ButtonModel",
     "state": {
      "_dom_classes": [],
      "_model_module": "@jupyter-widgets/controls",
      "_model_module_version": "1.5.0",
      "_model_name": "ButtonModel",
      "_view_count": null,
      "_view_module": "@jupyter-widgets/controls",
      "_view_module_version": "1.5.0",
      "_view_name": "ButtonView",
      "button_style": "",
      "description": "Predict",
      "disabled": false,
      "icon": "",
      "layout": "IPY_MODEL_da8d7c39187c4f248323695e9b48ede8",
      "style": "IPY_MODEL_9e3e1520033f48a18235ca514132484c",
      "tooltip": ""
     }
    },
    "9e3e1520033f48a18235ca514132484c": {
     "model_module": "@jupyter-widgets/controls",
     "model_module_version": "1.5.0",
     "model_name": "ButtonStyleModel",
     "state": {
      "_model_module": "@jupyter-widgets/controls",
      "_model_module_version": "1.5.0",
      "_model_name": "ButtonStyleModel",
      "_view_count": null,
      "_view_module": "@jupyter-widgets/base",
      "_view_module_version": "1.2.0",
      "_view_name": "StyleView",
      "button_color": null,
      "font_weight": ""
     }
    },
    "bc9c27f821dc40be923047dc50e4c5ca": {
     "model_module": "@jupyter-widgets/output",
     "model_module_version": "1.0.0",
     "model_name": "OutputModel",
     "state": {
      "_dom_classes": [],
      "_model_module": "@jupyter-widgets/output",
      "_model_module_version": "1.0.0",
      "_model_name": "OutputModel",
      "_view_count": null,
      "_view_module": "@jupyter-widgets/output",
      "_view_module_version": "1.0.0",
      "_view_name": "OutputView",
      "layout": "IPY_MODEL_11394ad6754340ac9e5687b1016b7915",
      "msg_id": "",
      "outputs": []
     }
    },
    "bcd58fa1ede54bd39507d87bc367c5df": {
     "model_module": "@jupyter-widgets/controls",
     "model_module_version": "1.5.0",
     "model_name": "FileUploadModel",
     "state": {
      "_counter": 0,
      "_dom_classes": [],
      "_model_module": "@jupyter-widgets/controls",
      "_model_module_version": "1.5.0",
      "_model_name": "FileUploadModel",
      "_view_count": null,
      "_view_module": "@jupyter-widgets/controls",
      "_view_module_version": "1.5.0",
      "_view_name": "FileUploadView",
      "accept": "",
      "button_style": "",
      "data": [],
      "description": "Upload",
      "description_tooltip": null,
      "disabled": false,
      "error": "",
      "icon": "upload",
      "layout": "IPY_MODEL_39c3682876df486cbe4462edeb24f957",
      "metadata": [],
      "multiple": false,
      "style": "IPY_MODEL_d365ebded1dc4812aa1739f793f31992"
     }
    },
    "d365ebded1dc4812aa1739f793f31992": {
     "model_module": "@jupyter-widgets/controls",
     "model_module_version": "1.5.0",
     "model_name": "ButtonStyleModel",
     "state": {
      "_model_module": "@jupyter-widgets/controls",
      "_model_module_version": "1.5.0",
      "_model_name": "ButtonStyleModel",
      "_view_count": null,
      "_view_module": "@jupyter-widgets/base",
      "_view_module_version": "1.2.0",
      "_view_name": "StyleView",
      "button_color": null,
      "font_weight": ""
     }
    },
    "da8d7c39187c4f248323695e9b48ede8": {
     "model_module": "@jupyter-widgets/base",
     "model_module_version": "1.2.0",
     "model_name": "LayoutModel",
     "state": {
      "_model_module": "@jupyter-widgets/base",
      "_model_module_version": "1.2.0",
      "_model_name": "LayoutModel",
      "_view_count": null,
      "_view_module": "@jupyter-widgets/base",
      "_view_module_version": "1.2.0",
      "_view_name": "LayoutView",
      "align_content": null,
      "align_items": null,
      "align_self": null,
      "border": null,
      "bottom": null,
      "display": null,
      "flex": null,
      "flex_flow": null,
      "grid_area": null,
      "grid_auto_columns": null,
      "grid_auto_flow": null,
      "grid_auto_rows": null,
      "grid_column": null,
      "grid_gap": null,
      "grid_row": null,
      "grid_template_areas": null,
      "grid_template_columns": null,
      "grid_template_rows": null,
      "height": null,
      "justify_content": null,
      "justify_items": null,
      "left": null,
      "margin": null,
      "max_height": null,
      "max_width": null,
      "min_height": null,
      "min_width": null,
      "object_fit": null,
      "object_position": null,
      "order": null,
      "overflow": null,
      "overflow_x": null,
      "overflow_y": null,
      "padding": null,
      "right": null,
      "top": null,
      "visibility": null,
      "width": null
     }
    }
   }
  }
 },
 "nbformat": 4,
 "nbformat_minor": 0
}
